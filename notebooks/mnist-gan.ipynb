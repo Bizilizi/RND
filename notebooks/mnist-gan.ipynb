{
 "cells": [
  {
   "cell_type": "code",
   "execution_count": 10,
   "metadata": {},
   "outputs": [],
   "source": [
    "import torch\n",
    "import torch.nn as nn\n",
    "import torch.nn.functional as F\n",
    "import torch.optim as optim\n",
    "from torchvision import datasets, transforms\n",
    "from torch.autograd import Variable\n",
    "from torchvision.utils import save_image\n",
    "from tqdm.notebook import trange\n",
    "# Device configuration\n",
    "device = torch.device('mps')"
   ]
  },
  {
   "cell_type": "code",
   "execution_count": 11,
   "outputs": [],
   "source": [
    "import os\n",
    "os.chdir('..')"
   ],
   "metadata": {
    "collapsed": false
   }
  },
  {
   "cell_type": "code",
   "execution_count": 12,
   "metadata": {},
   "outputs": [
    {
     "name": "stdout",
     "output_type": "stream",
     "text": [
      "Downloading http://yann.lecun.com/exdb/mnist/train-images-idx3-ubyte.gz\n",
      "Downloading http://yann.lecun.com/exdb/mnist/train-images-idx3-ubyte.gz to ./mnist_data/MNIST/raw/train-images-idx3-ubyte.gz\n"
     ]
    },
    {
     "data": {
      "text/plain": "  0%|          | 0/9912422 [00:00<?, ?it/s]",
      "application/vnd.jupyter.widget-view+json": {
       "version_major": 2,
       "version_minor": 0,
       "model_id": "bd69b3e8bcca4c439418bf33569c1cdd"
      }
     },
     "metadata": {},
     "output_type": "display_data"
    },
    {
     "name": "stdout",
     "output_type": "stream",
     "text": [
      "Extracting ./mnist_data/MNIST/raw/train-images-idx3-ubyte.gz to ./mnist_data/MNIST/raw\n",
      "\n",
      "Downloading http://yann.lecun.com/exdb/mnist/train-labels-idx1-ubyte.gz\n",
      "Downloading http://yann.lecun.com/exdb/mnist/train-labels-idx1-ubyte.gz to ./mnist_data/MNIST/raw/train-labels-idx1-ubyte.gz\n"
     ]
    },
    {
     "data": {
      "text/plain": "  0%|          | 0/28881 [00:00<?, ?it/s]",
      "application/vnd.jupyter.widget-view+json": {
       "version_major": 2,
       "version_minor": 0,
       "model_id": "ba467654d8404148a0d5550bafa5d305"
      }
     },
     "metadata": {},
     "output_type": "display_data"
    },
    {
     "name": "stdout",
     "output_type": "stream",
     "text": [
      "Extracting ./mnist_data/MNIST/raw/train-labels-idx1-ubyte.gz to ./mnist_data/MNIST/raw\n",
      "\n",
      "Downloading http://yann.lecun.com/exdb/mnist/t10k-images-idx3-ubyte.gz\n",
      "Downloading http://yann.lecun.com/exdb/mnist/t10k-images-idx3-ubyte.gz to ./mnist_data/MNIST/raw/t10k-images-idx3-ubyte.gz\n"
     ]
    },
    {
     "data": {
      "text/plain": "  0%|          | 0/1648877 [00:00<?, ?it/s]",
      "application/vnd.jupyter.widget-view+json": {
       "version_major": 2,
       "version_minor": 0,
       "model_id": "b084473b489649caa0f7929f4f935836"
      }
     },
     "metadata": {},
     "output_type": "display_data"
    },
    {
     "name": "stdout",
     "output_type": "stream",
     "text": [
      "Extracting ./mnist_data/MNIST/raw/t10k-images-idx3-ubyte.gz to ./mnist_data/MNIST/raw\n",
      "\n",
      "Downloading http://yann.lecun.com/exdb/mnist/t10k-labels-idx1-ubyte.gz\n",
      "Downloading http://yann.lecun.com/exdb/mnist/t10k-labels-idx1-ubyte.gz to ./mnist_data/MNIST/raw/t10k-labels-idx1-ubyte.gz\n"
     ]
    },
    {
     "data": {
      "text/plain": "  0%|          | 0/4542 [00:00<?, ?it/s]",
      "application/vnd.jupyter.widget-view+json": {
       "version_major": 2,
       "version_minor": 0,
       "model_id": "791e2feba7194d05bef355d7d4567925"
      }
     },
     "metadata": {},
     "output_type": "display_data"
    },
    {
     "name": "stdout",
     "output_type": "stream",
     "text": [
      "Extracting ./mnist_data/MNIST/raw/t10k-labels-idx1-ubyte.gz to ./mnist_data/MNIST/raw\n",
      "\n"
     ]
    }
   ],
   "source": [
    "from torchvision.transforms import Compose, ToTensor, Normalize\n",
    "\n",
    "_default_mnist_avalanche_transform = Compose(\n",
    "    [ToTensor(), Normalize((0.1307), (0.3081))]\n",
    ")\n",
    "bs = 100\n",
    "\n",
    "train_dataset = datasets.MNIST(root='./mnist_data/', train=True, transform=_default_mnist_avalanche_transform, download=True)\n",
    "test_dataset = datasets.MNIST(root='./mnist_data/', train=False, transform=_default_mnist_avalanche_transform, download=False)\n",
    "\n",
    "# Data Loader (Input Pipeline)\n",
    "train_loader = torch.utils.data.DataLoader(dataset=train_dataset, batch_size=bs, shuffle=True)\n",
    "test_loader = torch.utils.data.DataLoader(dataset=test_dataset, batch_size=bs, shuffle=False)"
   ]
  },
  {
   "cell_type": "code",
   "execution_count": 13,
   "metadata": {},
   "outputs": [],
   "source": [
    "class Discriminator(nn.Module):\n",
    "    def __init__(self, d_input_dim):\n",
    "        super(Discriminator, self).__init__()\n",
    "        self.fc1 = nn.Linear(d_input_dim, 1024)\n",
    "        self.fc2 = nn.Linear(self.fc1.out_features, self.fc1.out_features // 2)\n",
    "        self.fc3 = nn.Linear(self.fc2.out_features, self.fc2.out_features // 2)\n",
    "        self.fc4 = nn.Linear(self.fc3.out_features, 1)\n",
    "\n",
    "    # forward method\n",
    "    def forward(self, x):\n",
    "        x = F.leaky_relu(self.fc1(x), 0.2)\n",
    "        x = F.dropout(x, 0.3)\n",
    "        x = F.leaky_relu(self.fc2(x), 0.2)\n",
    "        x = F.dropout(x, 0.3)\n",
    "        x = F.leaky_relu(self.fc3(x), 0.2)\n",
    "        x = F.dropout(x, 0.3)\n",
    "        return torch.sigmoid(self.fc4(x))"
   ]
  },
  {
   "cell_type": "code",
   "execution_count": 14,
   "metadata": {},
   "outputs": [],
   "source": [
    "from src.model.rnd.gan_generator import MNISTGanGenerator\n",
    "# build network\n",
    "z_dim = 100\n",
    "mnist_dim = train_dataset.train_data.size(1) * train_dataset.train_data.size(2)\n",
    "\n",
    "G = MNISTGanGenerator(input_dim=z_dim, output_dim=mnist_dim).to(device)\n",
    "D = Discriminator(mnist_dim).to(device)"
   ]
  },
  {
   "cell_type": "code",
   "execution_count": 15,
   "metadata": {},
   "outputs": [
    {
     "data": {
      "text/plain": "Discriminator(\n  (fc1): Linear(in_features=784, out_features=1024, bias=True)\n  (fc2): Linear(in_features=1024, out_features=512, bias=True)\n  (fc3): Linear(in_features=512, out_features=256, bias=True)\n  (fc4): Linear(in_features=256, out_features=1, bias=True)\n)"
     },
     "execution_count": 15,
     "metadata": {},
     "output_type": "execute_result"
    }
   ],
   "source": [
    "D"
   ]
  },
  {
   "cell_type": "code",
   "execution_count": 16,
   "metadata": {},
   "outputs": [],
   "source": [
    "# loss\n",
    "criterion = nn.BCELoss()\n",
    "\n",
    "# optimizer\n",
    "lr = 0.0002\n",
    "G_optimizer = optim.Adam(G.parameters(), lr=lr)\n",
    "D_optimizer = optim.Adam(D.parameters(), lr=lr)"
   ]
  },
  {
   "cell_type": "code",
   "execution_count": 17,
   "metadata": {},
   "outputs": [],
   "source": [
    "def D_train(x):\n",
    "    #=======================Train the discriminator=======================#\n",
    "    D.zero_grad()\n",
    "\n",
    "    # train discriminator on real\n",
    "    x_real, y_real = x.view(-1, mnist_dim), torch.ones(bs, 1)\n",
    "    x_real, y_real = Variable(x_real.to(device)), Variable(y_real.to(device))\n",
    "\n",
    "    D_output = D(x_real)\n",
    "    D_real_loss = criterion(D_output, y_real)\n",
    "    D_real_score = D_output\n",
    "\n",
    "    # train discriminator on facke\n",
    "    z = Variable(torch.randn(bs, z_dim).to(device))\n",
    "    x_fake, y_fake = G(z), Variable(torch.zeros(bs, 1).to(device))\n",
    "\n",
    "    D_output = D(x_fake)\n",
    "    D_fake_loss = criterion(D_output, y_fake)\n",
    "    D_fake_score = D_output\n",
    "\n",
    "    # gradient backprop & optimize ONLY D's parameters\n",
    "    D_loss = D_real_loss + D_fake_loss\n",
    "    D_loss.backward()\n",
    "    D_optimizer.step()\n",
    "\n",
    "    return D_loss.data.item()"
   ]
  },
  {
   "cell_type": "code",
   "execution_count": 18,
   "metadata": {},
   "outputs": [],
   "source": [
    "def G_train(x):\n",
    "    #=======================Train the generator=======================#\n",
    "    G.zero_grad()\n",
    "\n",
    "    z = Variable(torch.randn(bs, z_dim).to(device))\n",
    "    y = Variable(torch.ones(bs, 1).to(device))\n",
    "\n",
    "    G_output = G(z)\n",
    "    D_output = D(G_output)\n",
    "    G_loss = criterion(D_output, y)\n",
    "\n",
    "    # gradient backprop & optimize ONLY G's parameters\n",
    "    G_loss.backward()\n",
    "    G_optimizer.step()\n",
    "\n",
    "    return G_loss.data.item()"
   ]
  },
  {
   "cell_type": "code",
   "execution_count": 19,
   "metadata": {
    "scrolled": true
   },
   "outputs": [
    {
     "data": {
      "text/plain": "  0%|          | 0/100 [00:00<?, ?it/s]",
      "application/vnd.jupyter.widget-view+json": {
       "version_major": 2,
       "version_minor": 0,
       "model_id": "0a8f68354eaa4438b990ca06e925b266"
      }
     },
     "metadata": {},
     "output_type": "display_data"
    },
    {
     "name": "stdout",
     "output_type": "stream",
     "text": [
      "[1/100]: loss_d: 1.378, loss_g: 0.680\n",
      "[2/100]: loss_d: 1.326, loss_g: 0.669\n",
      "[3/100]: loss_d: 1.232, loss_g: 0.623\n",
      "[4/100]: loss_d: 1.114, loss_g: 0.566\n",
      "[5/100]: loss_d: 0.983, loss_g: 0.503\n",
      "[6/100]: loss_d: 0.850, loss_g: 0.441\n",
      "[7/100]: loss_d: 0.724, loss_g: 0.383\n",
      "[8/100]: loss_d: 0.609, loss_g: 0.331\n",
      "[9/100]: loss_d: 0.509, loss_g: 0.287\n",
      "[10/100]: loss_d: 0.423, loss_g: 0.249\n",
      "[11/100]: loss_d: 0.352, loss_g: 0.218\n",
      "[12/100]: loss_d: 0.293, loss_g: 0.191\n",
      "[13/100]: loss_d: 0.246, loss_g: 0.169\n",
      "[14/100]: loss_d: 0.208, loss_g: 0.149\n",
      "[15/100]: loss_d: 0.177, loss_g: 0.133\n",
      "[16/100]: loss_d: 0.152, loss_g: 0.118\n",
      "[17/100]: loss_d: 0.131, loss_g: 0.106\n",
      "[18/100]: loss_d: 0.114, loss_g: 0.095\n",
      "[19/100]: loss_d: 0.099, loss_g: 0.085\n",
      "[20/100]: loss_d: 0.087, loss_g: 0.077\n",
      "[21/100]: loss_d: 0.077, loss_g: 0.069\n",
      "[22/100]: loss_d: 0.068, loss_g: 0.062\n",
      "[23/100]: loss_d: 0.061, loss_g: 0.056\n",
      "[24/100]: loss_d: 0.054, loss_g: 0.051\n",
      "[25/100]: loss_d: 0.049, loss_g: 0.046\n",
      "[26/100]: loss_d: 0.044, loss_g: 0.042\n",
      "[27/100]: loss_d: 0.039, loss_g: 0.038\n",
      "[28/100]: loss_d: 0.035, loss_g: 0.034\n",
      "[29/100]: loss_d: 0.032, loss_g: 0.031\n",
      "[30/100]: loss_d: 0.029, loss_g: 0.028\n",
      "[31/100]: loss_d: 0.026, loss_g: 0.025\n",
      "[32/100]: loss_d: 0.023, loss_g: 0.023\n",
      "[33/100]: loss_d: 0.021, loss_g: 0.021\n",
      "[34/100]: loss_d: 0.019, loss_g: 0.019\n",
      "[35/100]: loss_d: 0.017, loss_g: 0.017\n",
      "[36/100]: loss_d: 0.016, loss_g: 0.015\n",
      "[37/100]: loss_d: 0.014, loss_g: 0.014\n",
      "[38/100]: loss_d: 0.013, loss_g: 0.013\n",
      "[39/100]: loss_d: 0.012, loss_g: 0.012\n",
      "[40/100]: loss_d: 0.010, loss_g: 0.010\n",
      "[41/100]: loss_d: 0.009, loss_g: 0.009\n",
      "[42/100]: loss_d: 0.009, loss_g: 0.009\n",
      "[43/100]: loss_d: 0.008, loss_g: 0.008\n",
      "[44/100]: loss_d: 0.007, loss_g: 0.007\n",
      "[45/100]: loss_d: 0.006, loss_g: 0.006\n",
      "[46/100]: loss_d: 0.006, loss_g: 0.006\n",
      "[47/100]: loss_d: 0.005, loss_g: 0.005\n",
      "[48/100]: loss_d: 0.005, loss_g: 0.005\n",
      "[49/100]: loss_d: 0.004, loss_g: 0.004\n",
      "[50/100]: loss_d: 0.004, loss_g: 0.004\n",
      "[51/100]: loss_d: 0.004, loss_g: 0.004\n",
      "[52/100]: loss_d: 0.003, loss_g: 0.003\n",
      "[53/100]: loss_d: 0.003, loss_g: 0.003\n",
      "[54/100]: loss_d: 0.003, loss_g: 0.003\n",
      "[55/100]: loss_d: 0.002, loss_g: 0.002\n",
      "[56/100]: loss_d: 0.002, loss_g: 0.002\n",
      "[57/100]: loss_d: 0.002, loss_g: 0.002\n",
      "[58/100]: loss_d: 0.002, loss_g: 0.002\n",
      "[59/100]: loss_d: 0.002, loss_g: 0.002\n",
      "[60/100]: loss_d: 0.001, loss_g: 0.001\n",
      "[61/100]: loss_d: 0.001, loss_g: 0.001\n",
      "[62/100]: loss_d: 0.001, loss_g: 0.001\n",
      "[63/100]: loss_d: 0.001, loss_g: 0.001\n",
      "[64/100]: loss_d: 0.001, loss_g: 0.001\n",
      "[65/100]: loss_d: 0.001, loss_g: 0.001\n",
      "[66/100]: loss_d: 0.001, loss_g: 0.001\n",
      "[67/100]: loss_d: 0.001, loss_g: 0.001\n",
      "[68/100]: loss_d: 0.001, loss_g: 0.001\n",
      "[69/100]: loss_d: 0.001, loss_g: 0.001\n",
      "[70/100]: loss_d: 0.001, loss_g: 0.001\n",
      "[71/100]: loss_d: 0.000, loss_g: 0.000\n",
      "[72/100]: loss_d: 0.000, loss_g: 0.000\n",
      "[73/100]: loss_d: 0.000, loss_g: 0.000\n",
      "[74/100]: loss_d: 0.000, loss_g: 0.000\n",
      "[75/100]: loss_d: 0.000, loss_g: 0.000\n",
      "[76/100]: loss_d: 0.000, loss_g: 0.000\n",
      "[77/100]: loss_d: 0.000, loss_g: 0.000\n",
      "[78/100]: loss_d: 0.000, loss_g: 0.000\n",
      "[79/100]: loss_d: 0.000, loss_g: 0.000\n",
      "[80/100]: loss_d: 0.000, loss_g: 0.000\n",
      "[81/100]: loss_d: 0.000, loss_g: 0.000\n",
      "[82/100]: loss_d: 0.000, loss_g: 0.000\n",
      "[83/100]: loss_d: 0.000, loss_g: 0.000\n",
      "[84/100]: loss_d: 0.000, loss_g: 0.000\n",
      "[85/100]: loss_d: 0.000, loss_g: 0.000\n",
      "[86/100]: loss_d: 0.000, loss_g: 0.000\n",
      "[87/100]: loss_d: 0.000, loss_g: 0.000\n",
      "[88/100]: loss_d: 0.000, loss_g: 0.000\n",
      "[89/100]: loss_d: 0.000, loss_g: 0.000\n",
      "[90/100]: loss_d: 0.000, loss_g: 0.000\n",
      "[91/100]: loss_d: 0.000, loss_g: 0.000\n",
      "[92/100]: loss_d: 0.000, loss_g: 0.000\n",
      "[93/100]: loss_d: 0.000, loss_g: 0.000\n",
      "[94/100]: loss_d: 0.000, loss_g: 0.000\n",
      "[95/100]: loss_d: 0.000, loss_g: 0.000\n",
      "[96/100]: loss_d: 0.000, loss_g: 0.000\n",
      "[97/100]: loss_d: 0.000, loss_g: 0.000\n",
      "[98/100]: loss_d: 0.000, loss_g: 0.000\n",
      "[99/100]: loss_d: 0.000, loss_g: 0.000\n",
      "[100/100]: loss_d: 0.000, loss_g: 0.000\n"
     ]
    }
   ],
   "source": [
    "n_epoch = 100\n",
    "for epoch in trange(1, n_epoch + 1):\n",
    "    D_losses, G_losses = [], []\n",
    "    for batch_idx, (x, _) in enumerate(train_loader):\n",
    "        D_losses.append(D_train(x))\n",
    "        G_losses.append(G_train(x))\n",
    "\n",
    "    print('[%d/%d]: loss_d: %.3f, loss_g: %.3f' % (\n",
    "        (epoch), n_epoch, torch.mean(torch.FloatTensor(D_losses)), torch.mean(torch.FloatTensor(G_losses))))"
   ]
  },
  {
   "cell_type": "code",
   "execution_count": 21,
   "metadata": {},
   "outputs": [],
   "source": [
    "with torch.no_grad():\n",
    "    test_z = Variable(torch.randn(bs, z_dim).to(device))\n",
    "    generated = G(test_z)\n",
    "\n",
    "    save_image(generated.view(generated.size(0), 1, 28, 28), 'sample_' + '.png')"
   ]
  },
  {
   "cell_type": "code",
   "execution_count": null,
   "outputs": [],
   "source": [],
   "metadata": {
    "collapsed": false
   }
  }
 ],
 "metadata": {
  "kernelspec": {
   "display_name": "Python 3",
   "language": "python",
   "name": "python3"
  },
  "language_info": {
   "codemirror_mode": {
    "name": "ipython",
    "version": 3
   },
   "file_extension": ".py",
   "mimetype": "text/x-python",
   "name": "python",
   "nbconvert_exporter": "python",
   "pygments_lexer": "ipython3",
   "version": "3.5.4"
  }
 },
 "nbformat": 4,
 "nbformat_minor": 2
}
