{
 "cells": [
  {
   "cell_type": "code",
   "execution_count": 1,
   "id": "e83b2912",
   "metadata": {},
   "outputs": [],
   "source": [
    "from transformers import ImageGPTConfig\n",
    "from src.vq_vae.model.image_gpt import ImageGPTForCausalImageModeling\n",
    "\n",
    "configuration = ImageGPTConfig(**{\n",
    "    \"activation_function\": \"quick_gelu\",\n",
    "    \"attn_pdrop\": 0.1,\n",
    "    \"embd_pdrop\": 0.1,\n",
    "    \"initializer_range\": 0.02,\n",
    "    \"layer_norm_epsilon\": 1e-05,\n",
    "    \"model_type\": \"imagegpt\",\n",
    "    \"n_embd\": 512,\n",
    "    \"n_head\": 4,\n",
    "    \"n_layer\": 12,\n",
    "    \"n_positions\": 8 * 8 + 2,\n",
    "    \"reorder_and_upcast_attn\": False,\n",
    "    \"resid_pdrop\": 0.1,\n",
    "    \"scale_attn_by_inverse_layer_idx\": False,\n",
    "    \"scale_attn_weights\": True,\n",
    "    \"tie_word_embeddings\": False,\n",
    "    \"use_cache\": False,\n",
    "    \"vocab_size\": 64 + 2}\n",
    "                               )\n",
    "image_gpt = ImageGPTForCausalImageModeling(configuration)"
   ]
  },
  {
   "cell_type": "code",
   "execution_count": 2,
   "outputs": [
    {
     "data": {
      "text/plain": "CausalLMOutputWithCrossAttentions(loss=None, logits=tensor([[-0.0426,  0.4018, -0.5255,  ...,  0.3906, -0.2496,  0.1107],\n        [-0.2024,  0.1971, -0.3851,  ..., -0.4259, -0.2078, -0.1156],\n        [ 0.6182,  0.3608, -1.0641,  ..., -0.6167, -0.0799,  0.1416],\n        ...,\n        [-0.4061,  0.5399,  0.5390,  ...,  0.1521, -0.1213, -0.1734],\n        [-0.5008,  0.2142, -0.2510,  ..., -0.6096, -0.4734,  0.2820],\n        [-0.1283, -0.1575, -0.1161,  ..., -0.0599, -0.4344, -0.0540]],\n       grad_fn=<MmBackward0>), past_key_values=None, hidden_states=None, attentions=None, cross_attentions=None)"
     },
     "execution_count": 2,
     "metadata": {},
     "output_type": "execute_result"
    }
   ],
   "source": [
    "import torch\n",
    "\n",
    "image_gpt(torch.arange(64))"
   ],
   "metadata": {
    "collapsed": false
   }
  },
  {
   "cell_type": "code",
   "execution_count": null,
   "outputs": [],
   "source": [],
   "metadata": {
    "collapsed": false
   }
  }
 ],
 "metadata": {
  "kernelspec": {
   "display_name": "Python 3 (ipykernel)",
   "language": "python",
   "name": "python3"
  },
  "language_info": {
   "codemirror_mode": {
    "name": "ipython",
    "version": 3
   },
   "file_extension": ".py",
   "mimetype": "text/x-python",
   "name": "python",
   "nbconvert_exporter": "python",
   "pygments_lexer": "ipython3",
   "version": "3.10.9"
  }
 },
 "nbformat": 4,
 "nbformat_minor": 5
}
