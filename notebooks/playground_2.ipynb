{
 "cells": [
  {
   "cell_type": "code",
   "execution_count": 1,
   "metadata": {},
   "outputs": [
    {
     "name": "stderr",
     "output_type": "stream",
     "text": [
      "Global seed set to 42\n"
     ]
    }
   ],
   "source": [
    "from avalanche.benchmarks import SplitMNIST, SplitCIFAR10\n",
    "import lovely_tensors as lt\n",
    "from torchvision import transforms, datasets\n",
    "import torch\n",
    "from torch.utils.data import DataLoader\n",
    "from tqdm.notebook import tqdm\n",
    "import shutup;\n",
    "import pytorch_lightning as pl\n",
    "import os \n",
    "from src.utils.shift_class_targets import shift_experiences_classes\n",
    "\n",
    "os.environ['PYTORCH_ENABLE_MPS_FALLBACK']=\"1\"\n",
    "os.environ[\"WANDB_START_METHOD\"] = \"thread\"\n",
    "\n",
    "shutup.please()\n",
    "pl.seed_everything(42)\n",
    "lt.monkey_patch()"
   ]
  },
  {
   "cell_type": "code",
   "execution_count": 2,
   "metadata": {},
   "outputs": [
    {
     "name": "stdout",
     "output_type": "stream",
     "text": [
      "Files already downloaded and verified\n",
      "Files already downloaded and verified\n"
     ]
    }
   ],
   "source": [
    "seed = 42\n",
    "\n",
    "benchmark = SplitCIFAR10(\n",
    "    n_experiences=5,\n",
    "    return_task_id=True,\n",
    "    shuffle=False,\n",
    "    dataset_root='./datasets',\n",
    "    train_transform=transforms.Compose([\n",
    "        transforms.ToTensor(),\n",
    "        transforms.Normalize((0.5, 0.5, 0.5), (1.0, 1.0, 1.0))\n",
    "    ]),\n",
    "    eval_transform=transforms.Compose([\n",
    "        transforms.ToTensor(),\n",
    "        transforms.Normalize((0.5, 0.5, 0.5), (1.0, 1.0, 1.0))\n",
    "    ]),\n",
    ")\n",
    "shift_experiences_classes(benchmark, num_tasks_in_batch=2)\n",
    "\n",
    "train_dataset = datasets.CIFAR10(\n",
    "    root='./datasets',\n",
    "    train=True,\n",
    "    transform=transforms.Compose(\n",
    "        [\n",
    "            transforms.ToTensor(),\n",
    "            transforms.Normalize((0.5, 0.5, 0.5), (1.0, 1.0, 1.0)),\n",
    "        ]\n",
    "    ),\n",
    ")\n",
    "test_dataset = datasets.CIFAR10(\n",
    "    root='./datasets',\n",
    "    train=False,\n",
    "    transform=transforms.Compose(\n",
    "        [\n",
    "            transforms.ToTensor(),\n",
    "            transforms.Normalize((0.5, 0.5, 0.5), (1.0, 1.0, 1.0)),\n",
    "        ]\n",
    "    ),\n",
    ")"
   ]
  },
  {
   "cell_type": "code",
   "execution_count": 3,
   "metadata": {},
   "outputs": [],
   "source": [
    "import wandb\n",
    "import argparse\n",
    "from train_utils import get_device, add_arguments, get_wandb_params\n",
    "from src.vq_vae.init_scrips import get_model\n",
    "from src.utils.train_script import overwrite_config_with_args, parse_arguments\n",
    "from configparser import ConfigParser\n",
    "from src.vq_vae.configuration.config import TrainConfig\n",
    "\n",
    "ini_config = ConfigParser()\n",
    "ini_config.read(\"../src/vq_vae/configuration/train.ini\")\n",
    "\n",
    "parser = argparse.ArgumentParser(description=\"Model trainer\")\n",
    "parser = add_arguments(parser)\n",
    "\n",
    "## Read args\n",
    "args = parse_arguments(parser)\n",
    "args.accelerator = \"mps\"\n",
    "args.train_logger = \"tensorboard\"\n",
    "args.evaluation_logger = \"int\"\n",
    "args.max_epochs = 300\n",
    "args.min_epochs = 300\n",
    "args.num_workers = 0\n",
    "args.regularization_dropout = 0.2\n",
    "args.regularization_lambda = 0.01\n",
    "args.learning_rate = 0.001\n",
    "args.batch_size = 32\n",
    "args.best_model_prefix = \"artifacts\"\n",
    "args.num_random_noise = 0\n",
    "args.model = \"vq-vae\"\n",
    "\n",
    "config = TrainConfig.construct_typed_config(ini_config)\n",
    "overwrite_config_with_args(args, config)\n",
    "\n",
    "is_using_wandb = (\n",
    "    config.train_logger == \"wandb\"\n",
    "    or config.evaluation_logger == \"wandb\"\n",
    "    or args.run_id\n",
    ")\n",
    "if is_using_wandb:\n",
    "    wandb_params = get_wandb_params(args, config)\n",
    "\n",
    "    wandb.run.name = args.experiment_name or (\n",
    "        f\"RI-0.\"\n",
    "        f\"RN-{config.num_random_noise}.\"\n",
    "        f\"Dr-{config.regularization_dropout}.\"\n",
    "        f\"Wd-{config.regularization_lambda}.\"\n",
    "    )\n",
    "    wandb_params[\"name\"] = wandb.run.name\n",
    "else:\n",
    "    wandb_params = None"
   ]
  },
  {
   "cell_type": "code",
   "execution_count": 4,
   "metadata": {},
   "outputs": [
    {
     "name": "stdout",
     "output_type": "stream",
     "text": [
      "Setting up [LPIPS] perceptual loss: trunk [vgg], v[0.1], spatial [off]\n",
      "Loading model from: /Users/ewriji/Library/Caches/pypoetry/virtualenvs/rnd-ve5eq-PE-py3.10/lib/python3.10/site-packages/lpips/weights/v0.1/vgg.pth\n"
     ]
    }
   ],
   "source": [
    "from avalanche.training.plugins import EvaluationPlugin\n",
    "from train_utils import get_loggers\n",
    "from src.avalanche.strategies import NaivePytorchLightning\n",
    "from src.vq_vae.model.vq_vae import VQVae\n",
    "\n",
    "device = get_device(config)\n",
    "vq_vae_model = VQVae(\n",
    "    num_hiddens=config.num_hiddens,\n",
    "    num_residual_layers=config.num_residual_layers,\n",
    "    num_residual_hiddens=config.num_residual_hiddens,\n",
    "    num_embeddings=config.num_embeddings,\n",
    "    embedding_dim=config.embedding_dim,\n",
    "    commitment_cost=config.commitment_cost,\n",
    "    decay=config.decay,\n",
    "    learning_rate=config.learning_rate,\n",
    "    regularization_lambda=config.regularization_lambda,\n",
    "    regularization_dropout=config.regularization_dropout,\n",
    "    data_variance=0.06328692405746414,\n",
    "    use_lpips=True,\n",
    ")"
   ]
  },
  {
   "cell_type": "code",
   "execution_count": 5,
   "metadata": {},
   "outputs": [],
   "source": [
    "from src.vq_vae.init_scrips import get_evaluation_plugin, get_callbacks\n",
    "\n",
    "train_experience, test_experience = next(iter(zip(benchmark.train_stream, benchmark.test_stream)))\n",
    "# Test trained model\n",
    "cl_strategy_logger, eval_plugin_loggers = get_loggers(config, vq_vae_model, wandb_params)\n",
    "evaluation_plugin = EvaluationPlugin(\n",
    "    suppress_warnings=True,\n",
    ")\n",
    "\n",
    "cl_strategy = NaivePytorchLightning(\n",
    "    accelerator=config.accelerator,\n",
    "    devices=config.devices,\n",
    "    validate_every_n=config.validate_every_n,\n",
    "    accumulate_grad_batches=config.accumulate_grad_batches,\n",
    "    train_logger=cl_strategy_logger,\n",
    "    initial_resume_from=args.resume_from,\n",
    "    model=vq_vae_model,\n",
    "    device=device,\n",
    "    optimizer=vq_vae_model.configure_optimizers(),\n",
    "    criterion=vq_vae_model.criterion,\n",
    "    train_mb_size=config.batch_size,\n",
    "    train_mb_num_workers=config.num_workers,\n",
    "    train_epochs=config.max_epochs,\n",
    "    eval_mb_size=config.batch_size,\n",
    "    evaluator=evaluation_plugin,\n",
    "    callbacks=get_callbacks(config),\n",
    "    max_epochs=config.max_epochs,\n",
    "    min_epochs=config.min_epochs,\n",
    "    best_model_path_prefix=config.best_model_prefix,\n",
    "    plugins=[],\n",
    ")\n",
    "\n",
    "# cl_strategy.train(train_experience, [test_experience])"
   ]
  },
  {
   "cell_type": "code",
   "execution_count": 6,
   "metadata": {},
   "outputs": [
    {
     "data": {
      "text/plain": [
       "True"
      ]
     },
     "execution_count": 6,
     "metadata": {},
     "output_type": "execute_result"
    }
   ],
   "source": [
    "cl_strategy.model is vq_vae_model"
   ]
  },
  {
   "cell_type": "code",
   "execution_count": 7,
   "metadata": {},
   "outputs": [
    {
     "data": {
      "application/vnd.jupyter.widget-view+json": {
       "model_id": "5cd87cf25d5d4278a087eccedcbaf9b2",
       "version_major": 2,
       "version_minor": 0
      },
      "text/plain": [
       "  0%|          | 0/8 [00:00<?, ?it/s]"
      ]
     },
     "metadata": {},
     "output_type": "display_data"
    },
    {
     "name": "stdout",
     "output_type": "stream",
     "text": [
      "tensor 0.850\n"
     ]
    }
   ],
   "source": [
    "\n",
    "# Test trained model\n",
    "test_dataset =  benchmark.test_stream[4].dataset\n",
    "test_dataloader = DataLoader(test_dataset, batch_size=256, shuffle=False)\n",
    "\n",
    "cl_strategy.model.eval()\n",
    "losses = []\n",
    "targets = []\n",
    "\n",
    "with torch.no_grad():\n",
    "    for batch in tqdm(test_dataloader):\n",
    "        x, y, *_ = batch\n",
    "        x, y = x.to(vq_vae_model.device), y.to(vq_vae_model.device)\n",
    "\n",
    "        z = vq_vae_model.encoder(x)\n",
    "        z = vq_vae_model.pre_vq_conv(z)\n",
    "        vq_loss, quantized, perplexity = vq_vae_model.vq_vae(z)\n",
    "        x_recon = vq_vae_model.decoder(quantized)\n",
    "\n",
    "        _, reconstruction_loss, clf_loss, clf_acc, _ = vq_vae_model.criterion(\n",
    "            (vq_loss, x_recon, quantized, x, perplexity, None), y\n",
    "        )\n",
    "        loss = vq_loss + reconstruction_loss\n",
    "\n",
    "        losses.append(loss)\n",
    "        targets.extend(y.tolist())\n",
    "\n",
    "avg_test_loss = torch.tensor(losses).mean()\n",
    "print(avg_test_loss)"
   ]
  },
  {
   "cell_type": "code",
   "execution_count": 10,
   "metadata": {},
   "outputs": [
    {
     "data": {
      "text/plain": [
       "tensor[256, 64, 1, 1] n=16384 x∈[-1.839, 1.535] μ=0.064 σ=0.717"
      ]
     },
     "execution_count": 10,
     "metadata": {},
     "output_type": "execute_result"
    }
   ],
   "source": [
    "quantized"
   ]
  },
  {
   "cell_type": "code",
   "execution_count": 27,
   "metadata": {},
   "outputs": [
    {
     "data": {
      "text/plain": [
       "torch.Size([256, 64, 8, 8])"
      ]
     },
     "execution_count": 27,
     "metadata": {},
     "output_type": "execute_result"
    }
   ],
   "source": [
    "from torch import nn\n",
    "from src.vq_vae.model.resnet import ResidualStack\n",
    "\n",
    "num_hiddens = 128\n",
    "num_residual_layers = 2\n",
    "num_residual_hiddens = 32\n",
    "regularization_dropout = 0.2\n",
    "\n",
    "_model = nn.Sequential(\n",
    "\n",
    "    # nn.Conv2d(\n",
    "    #     in_channels=64,\n",
    "    #     out_channels=num_hiddens,\n",
    "    #     kernel_size=3,\n",
    "    #     stride=1,\n",
    "    #     padding=1,\n",
    "    # ),\n",
    "    # ResidualStack(\n",
    "    #     in_channels=num_hiddens,\n",
    "    #     num_hiddens=num_hiddens,\n",
    "    #     num_residual_layers=num_residual_layers,\n",
    "    #     num_residual_hiddens=num_residual_hiddens,\n",
    "    #     regularization_dropout=regularization_dropout,\n",
    "    # ),\n",
    "    # nn.ConvTranspose2d(\n",
    "    #     in_channels=num_hiddens,\n",
    "    #     out_channels=num_hiddens,\n",
    "    #     kernel_size=4,\n",
    "    #     stride=2,\n",
    "    #     padding=1,\n",
    "    # ),\n",
    "    # nn.ReLU(),\n",
    "    # nn.ConvTranspose2d(\n",
    "    #     in_channels=num_hiddens,\n",
    "    #     out_channels=num_hiddens // 2,\n",
    "    #     kernel_size=4,\n",
    "    #     stride=2,\n",
    "    #     padding=1,\n",
    "    # ),\n",
    "    # nn.ReLU(),\n",
    "    # nn.ConvTranspose2d(\n",
    "    #     in_channels=num_hiddens // 2,\n",
    "    #     out_channels=3,\n",
    "    #     kernel_size=4,\n",
    "    #     stride=2,\n",
    "    #     padding=1,\n",
    "    # ),\n",
    ")\n",
    "\n",
    "_model(quantized).shape"
   ]
  },
  {
   "cell_type": "code",
   "execution_count": 18,
   "metadata": {},
   "outputs": [
    {
     "data": {
      "text/plain": [
       "<torch.utils.data.dataset.ConcatDataset at 0x3306ad750>"
      ]
     },
     "execution_count": 18,
     "metadata": {},
     "output_type": "execute_result"
    }
   ],
   "source": [
    "from torch.utils.data import ConcatDataset\n",
    "\n",
    "ConcatDataset(\n",
    "    [experience.dataset for experience in benchmark.train_stream[: ]]\n",
    ")"
   ]
  },
  {
   "cell_type": "code",
   "execution_count": 25,
   "metadata": {},
   "outputs": [
    {
     "data": {
      "text/plain": [
       "<matplotlib.image.AxesImage at 0x2c4163f40>"
      ]
     },
     "execution_count": 25,
     "metadata": {},
     "output_type": "execute_result"
    },
    {
     "data": {
      "image/png": "[encoded data removed]",
      "text/plain": [
       "<Figure size 640x480 with 1 Axes>"
      ]
     },
     "metadata": {},
     "output_type": "display_data"
    }
   ],
   "source": [
    "from matplotlib import pyplot as plt\n",
    "\n",
    "plt.imshow(test_dataset[0][0].permute(1, 2, 0).cpu() + 0.5)"
   ]
  },
  {
   "cell_type": "code",
   "execution_count": 26,
   "metadata": {},
   "outputs": [
    {
     "name": "stdout",
     "output_type": "stream",
     "text": [
      "tensor[64, 3, 4, 4] n=3072 x∈[-0.144, 0.144] μ=-0.001 σ=0.083\n",
      "tensor[64] x∈[-0.143, 0.129] μ=-0.003 σ=0.074\n",
      "tensor[128, 64, 4, 4] n=131072 x∈[-0.031, 0.031] μ=5.904e-05 σ=0.018\n",
      "tensor[128] x∈[-0.031, 0.031] μ=0.001 σ=0.016\n",
      "tensor[128, 128, 3, 3] n=147456 x∈[-0.029, 0.029] μ=-4.499e-05 σ=0.017\n",
      "tensor[128] x∈[-0.029, 0.028] μ=0.000 σ=0.017\n",
      "tensor[32, 128, 3, 3] n=36864 x∈[-0.029, 0.029] μ=-4.836e-05 σ=0.017\n",
      "tensor[128, 32, 1, 1] n=4096 x∈[-0.177, 0.177] μ=0.001 σ=0.102\n",
      "tensor[32, 128, 3, 3] n=36864 x∈[-0.029, 0.029] μ=-0.000 σ=0.017\n",
      "tensor[128, 32, 1, 1] n=4096 x∈[-0.177, 0.177] μ=0.001 σ=0.101\n",
      "tensor[64, 128, 1, 1] n=8192 x∈[-0.088, 0.088] μ=-0.001 σ=0.051\n",
      "tensor[64] x∈[-0.086, 0.086] μ=-0.000 σ=0.052\n",
      "tensor[512, 64] n=32768 x∈[-3.976, 4.122] μ=0.004 σ=0.996\n",
      "tensor[512, 64] n=32768 x∈[-3.907, 3.927] μ=-0.001 σ=1.003\n",
      "tensor[128, 64, 3, 3] n=73728 x∈[-0.042, 0.042] μ=0.000 σ=0.024\n",
      "tensor[128] x∈[-0.041, 0.041] μ=-0.001 σ=0.024\n",
      "tensor[32, 128, 3, 3] n=36864 x∈[-0.029, 0.029] μ=-4.161e-05 σ=0.017\n",
      "tensor[128, 32, 1, 1] n=4096 x∈[-0.177, 0.177] μ=0.003 σ=0.103\n",
      "tensor[32, 128, 3, 3] n=36864 x∈[-0.029, 0.029] μ=-9.201e-06 σ=0.017\n",
      "tensor[128, 32, 1, 1] n=4096 x∈[-0.177, 0.177] μ=-0.000 σ=0.104\n",
      "tensor[128, 64, 4, 4] n=131072 x∈[-0.031, 0.031] μ=-4.294e-05 σ=0.018\n",
      "tensor[64] x∈[-0.031, 0.030] μ=0.001 σ=0.017\n",
      "tensor[64, 3, 4, 4] n=3072 x∈[-0.144, 0.144] μ=0.000 σ=0.083\n",
      "tensor[3] x∈[0.069, 0.137] μ=0.114 σ=0.039 [0.135, 0.137, 0.069]\n"
     ]
    }
   ],
   "source": [
    "for param in vq_vae_model.cpu().parameters():\n",
    "    print(param.data)"
   ]
  },
  {
   "cell_type": "code",
   "execution_count": 11,
   "metadata": {},
   "outputs": [
    {
     "data": {
      "text/plain": [
       "avalanche.benchmarks.scenarios.new_classes.nc_scenario.NCScenario"
      ]
     },
     "execution_count": 11,
     "metadata": {},
     "output_type": "execute_result"
    }
   ],
   "source": [
    "type(benchmark)"
   ]
  }
 ],
 "metadata": {
  "kernelspec": {
   "display_name": "Python 3 (ipykernel)",
   "language": "python",
   "name": "python3"
  },
  "language_info": {
   "codemirror_mode": {
    "name": "ipython",
    "version": 3
   },
   "file_extension": ".py",
   "mimetype": "text/x-python",
   "name": "python",
   "nbconvert_exporter": "python",
   "pygments_lexer": "ipython3",
   "version": "3.10.9"
  },
  "vscode": {
   "interpreter": {
    "hash": "5da7ba37bc5bdae9b513af7f05bf2924837c9a2f6b279cd0b39590e16ef5df98"
   }
  }
 },
 "nbformat": 4,
 "nbformat_minor": 1
}
