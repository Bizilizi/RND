{
 "cells": [
  {
   "cell_type": "code",
   "execution_count": 1,
   "outputs": [],
   "source": [
    "import torch\n",
    "from torchvision import datasets\n",
    "from torchvision.transforms import Compose, ToTensor, Normalize\n",
    "import torch.nn as nn\n",
    "from tqdm.notebook import tqdm, trange"
   ],
   "metadata": {
    "collapsed": false
   }
  },
  {
   "cell_type": "code",
   "execution_count": 2,
   "outputs": [],
   "source": [
    "_default_mnist_avalanche_transform = Compose(\n",
    "    [ToTensor()]\n",
    ")\n",
    "batch_size = 256\n",
    "\n",
    "train_dataset = datasets.MNIST(root='./mnist_data/', train=True, transform=_default_mnist_avalanche_transform,\n",
    "                               download=True)\n",
    "test_dataset = datasets.MNIST(root='./mnist_data/', train=False, transform=_default_mnist_avalanche_transform,\n",
    "                              download=False)\n",
    "\n",
    "# Data Loader (Input Pipeline)\n",
    "train_loader = torch.utils.data.DataLoader(dataset=train_dataset, batch_size=batch_size, shuffle=True)\n",
    "test_loader = torch.utils.data.DataLoader(dataset=test_dataset, batch_size=batch_size, shuffle=False)"
   ],
   "metadata": {
    "collapsed": false
   }
  },
  {
   "cell_type": "code",
   "execution_count": 3,
   "outputs": [],
   "source": [
    "import os\n",
    "\n",
    "os.chdir('..')"
   ],
   "metadata": {
    "collapsed": false
   }
  },
  {
   "cell_type": "code",
   "execution_count": 4,
   "outputs": [
    {
     "name": "stderr",
     "output_type": "stream",
     "text": [
      "UsageError: Line magic function `%` not found.\n"
     ]
    }
   ],
   "source": [
    "% load_ext autoreload\n",
    "% autoreload 2"
   ],
   "metadata": {
    "collapsed": false
   }
  },
  {
   "cell_type": "code",
   "execution_count": 5,
   "outputs": [],
   "source": [
    "from src.model.rnd.vae_generator import MNISTVaeCNNGenerator, MNISTVaeLinearGenerator\n",
    "import torch.nn.functional as F\n",
    "\n",
    "\n",
    "class MNISTVaeEncoder(nn.Module):\n",
    "    \"\"\"Gan generated MNIST images\"\"\"\n",
    "\n",
    "    def __init__(self, output_dim: int) -> None:\n",
    "        super().__init__()\n",
    "\n",
    "        self.input_dim = 28 * 28\n",
    "        self.output_dim = output_dim\n",
    "\n",
    "        # self.module = nn.Sequential(\n",
    "        #     nn.Conv2d(1, 3, 3),\n",
    "        #     nn.ReLU(),\n",
    "        #     nn.Conv2d(3, 12, 3),\n",
    "        #     nn.ReLU(),\n",
    "        #     nn.Conv2d(12, 6, 3),\n",
    "        #     nn.ReLU(),\n",
    "        #     nn.Conv2d(6, 1, 3),\n",
    "        #     nn.ReLU(),\n",
    "        #     nn.Flatten(),\n",
    "        #     nn.Linear(400, 254),\n",
    "        #     nn.ReLU(),\n",
    "        # )\n",
    "\n",
    "        self.module = nn.Sequential(\n",
    "            nn.Flatten(),\n",
    "            nn.Linear(28 * 28, 512),\n",
    "            nn.Linear(512, 256)\n",
    "        )\n",
    "\n",
    "        self.mu_head = nn.Linear(256, self.output_dim)\n",
    "        self.sigma_head = nn.Linear(256, self.output_dim)\n",
    "\n",
    "    def forward(self, x):\n",
    "        x = self.module(x)\n",
    "\n",
    "        return self.mu_head(x), self.sigma_head(x)\n",
    "\n",
    "\n",
    "class VAE(nn.Module):\n",
    "    def __init__(self, z_dim: int):\n",
    "        super().__init__()\n",
    "\n",
    "        self.encoder = MNISTVaeEncoder(output_dim=z_dim)\n",
    "        # self.decoder = MNISTVaeCNNGenerator(input_dim=z_dim)\n",
    "        self.decoder = MNISTVaeLinearGenerator(28 * 28, 512, 256, z_dim)\n",
    "        self.reconstruction_criterion = nn.MSELoss()\n",
    "\n",
    "    def forward(self, x):\n",
    "        mu, log_sigma = self.encoder(x)\n",
    "\n",
    "        # sampling\n",
    "        std = torch.exp(0.5 * log_sigma)\n",
    "        eps = torch.randn_like(std)\n",
    "        z = eps.mul(std).add_(mu)\n",
    "\n",
    "        # compute losses\n",
    "        x_pred = self.decoder(z)\n",
    "\n",
    "        kl_div = 1 / 2 * (log_sigma.exp() + mu.pow(2) - log_sigma - 1).sum(dim=1).mean()\n",
    "        reconstruction_loss = 1 / 2 * self.reconstruction_criterion(x_pred, x)\n",
    "\n",
    "        return kl_div, reconstruction_loss"
   ],
   "metadata": {
    "collapsed": false
   }
  },
  {
   "cell_type": "code",
   "execution_count": 6,
   "outputs": [],
   "source": [
    "device = torch.device('mps')\n",
    "z_dim = 2\n",
    "vae = VAE(z_dim=z_dim).to(device)"
   ],
   "metadata": {
    "collapsed": false
   }
  },
  {
   "cell_type": "code",
   "execution_count": 7,
   "outputs": [],
   "source": [
    "from plotly.subplots import make_subplots\n",
    "import plotly.graph_objects as go\n",
    "\n",
    "\n",
    "def visualize_losses(train_losses, test_losses):\n",
    "    fig = make_subplots(\n",
    "        rows=3, cols=2,\n",
    "        specs=[[{}, {}],\n",
    "               [{\"colspan\": 2}, None],\n",
    "               [{\"colspan\": 2}, None]],\n",
    "        subplot_titles=(\"Train epoch kl\", \"Test epoch reconstruction\", \"Train epoch loss\", \"Test epoch loss\")\n",
    "    )\n",
    "\n",
    "    fig.add_trace(\n",
    "        go.Scatter(\n",
    "            x=list(range(len(train_losses[\"epoch_kl\"]))),\n",
    "            y=train_losses[\"epoch_kl\"],\n",
    "        ),\n",
    "        col=1,\n",
    "        row=1,\n",
    "    )\n",
    "    fig.add_trace(\n",
    "        go.Scatter(\n",
    "            x=list(range(len(train_losses[\"epoch_rec\"]))),\n",
    "            y=train_losses[\"epoch_rec\"],\n",
    "        ),\n",
    "        col=2,\n",
    "        row=1,\n",
    "    )\n",
    "    fig.add_trace(\n",
    "        go.Scatter(\n",
    "            x=list(range(len(train_losses[\"epoch\"]))),\n",
    "            y=train_losses[\"epoch\"],\n",
    "        ),\n",
    "        col=1,\n",
    "        row=2,\n",
    "    )\n",
    "    fig.add_trace(\n",
    "        go.Scatter(\n",
    "            x=list(range(len(test_losses[\"epoch\"]))),\n",
    "            y=test_losses[\"epoch\"],\n",
    "        ),\n",
    "        col=1,\n",
    "        row=3,\n",
    "    )\n",
    "\n",
    "    fig.update_layout(height=1000)\n",
    "    return fig"
   ],
   "metadata": {
    "collapsed": false
   }
  },
  {
   "cell_type": "code",
   "execution_count": 9,
   "outputs": [
    {
     "data": {
      "application/vnd.plotly.v1+json": {
       "data": [
        {
         "x": [
          0,
          1,
          2,
          3,
          4,
          5,
          6,
          7,
          8,
          9,
          10,
          11,
          12,
          13,
          14,
          15,
          16,
          17,
          18,
          19,
          20,
          21,
          22,
          23,
          24,
          25,
          26,
          27,
          28,
          29,
          30,
          31,
          32,
          33,
          34,
          35,
          36,
          37,
          38,
          39,
          40,
          41,
          42,
          43,
          44,
          45,
          46,
          47,
          48,
          49,
          50,
          51,
          52,
          53,
          54,
          55,
          56,
          57,
          58,
          59,
          60,
          61,
          62,
          63,
          64,
          65,
          66,
          67,
          68,
          69,
          70,
          71,
          72,
          73,
          74,
          75,
          76,
          77,
          78
         ],
         "y": [
          0.00305569707415998,
          0.0015520964516326785,
          0.0010391430696472526,
          7.800483144819736E-4,
          6.265179836191237E-4,
          5.238201702013612E-4,
          4.5045342994853854E-4,
          3.9419325185008347E-4,
          3.5111475153826177E-4,
          3.1631594174541533E-4,
          2.8771464712917805E-4,
          2.6397526380605996E-4,
          2.4390092585235834E-4,
          2.2655606153421104E-4,
          2.1155209105927497E-4,
          1.984714181162417E-4,
          1.868221297627315E-4,
          1.7650141671765596E-4,
          1.6726175090298057E-4,
          1.5893366071395576E-4,
          1.513862080173567E-4,
          1.4454151096288115E-4,
          1.38290852191858E-4,
          1.3253909128252417E-4,
          1.2727435387205333E-4,
          1.2239909847266972E-4,
          1.1790118151111528E-4,
          1.1370002903277054E-4,
          1.0980051592923701E-4,
          1.0618218220770359E-4,
          1.0277224646415561E-4,
          9.95705631794408E-5,
          9.658392082201317E-5,
          9.376116213388741E-5,
          9.10943781491369E-5,
          8.857633656589314E-5,
          8.620731387054548E-5,
          8.394993346882984E-5,
          8.181011799024418E-5,
          7.978043868206441E-5,
          7.78448156779632E-5,
          7.59961549192667E-5,
          7.423827628372237E-5,
          7.256182288983837E-5,
          7.095908949850127E-5,
          6.942068284843117E-5,
          6.79486183798872E-5,
          6.653684249613434E-5,
          6.518283043988049E-5,
          6.388399197021499E-5,
          6.263589602895081E-5,
          6.143461359897628E-5,
          6.027844938216731E-5,
          5.916296868235804E-5,
          5.808783316751942E-5,
          5.705174044123851E-5,
          5.6051510910037905E-5,
          3.8133416092023253E-4,
          3.7878224975429475E-4,
          3.727907605934888E-4,
          3.667966811917722E-4,
          3.609428240451962E-4,
          3.55250493157655E-4,
          3.497232391964644E-4,
          3.4435823909007013E-4,
          3.391509526409209E-4,
          3.340958501212299E-4,
          3.2918728538788855E-4,
          3.24420107062906E-4,
          3.1978779588826E-4,
          3.152854333166033E-4,
          3.1090909033082426E-4,
          3.066534991376102E-4,
          3.02510685287416E-4,
          2.9848096892237663E-4,
          2.945566375274211E-4,
          2.9079901287332177E-4,
          2.8707514866255224E-4,
          2.834492770489305E-4
         ],
         "type": "scatter",
         "xaxis": "x",
         "yaxis": "y"
        },
        {
         "x": [
          0,
          1,
          2,
          3,
          4,
          5,
          6,
          7,
          8,
          9,
          10,
          11,
          12,
          13,
          14,
          15,
          16,
          17,
          18,
          19,
          20,
          21,
          22,
          23,
          24,
          25,
          26,
          27,
          28,
          29,
          30,
          31,
          32,
          33,
          34,
          35,
          36,
          37,
          38,
          39,
          40,
          41,
          42,
          43,
          44,
          45,
          46,
          47,
          48,
          49,
          50,
          51,
          52,
          53,
          54,
          55,
          56,
          57,
          58,
          59,
          60,
          61,
          62,
          63,
          64,
          65,
          66,
          67,
          68,
          69,
          70,
          71,
          72,
          73,
          74,
          75,
          76,
          77,
          78
         ],
         "y": [
          0.03372659161686897,
          0.03370019048452377,
          0.03369107469916344,
          0.03368382528424263,
          0.033679500222206116,
          0.03367709368467331,
          0.03367554768919945,
          0.033672790974378586,
          0.033670615404844284,
          0.03366908058524132,
          0.03366686403751373,
          0.03366491571068764,
          0.03366383910179138,
          0.033662937581539154,
          0.033662036061286926,
          0.03366117179393768,
          0.03366013616323471,
          0.033659156411886215,
          0.03365826606750488,
          0.033657148480415344,
          0.033656418323516846,
          0.03365586698055267,
          0.03365525230765343,
          0.033654674887657166,
          0.033654168248176575,
          0.033653561025857925,
          0.033653225749731064,
          0.03365292027592659,
          0.03365224972367287,
          0.03365186229348183,
          0.033651404082775116,
          0.0336509607732296,
          0.033650606870651245,
          0.03365016356110573,
          0.033649664372205734,
          0.033649370074272156,
          0.0336490161716938,
          0.03364865854382515,
          0.03364821895956993,
          0.033647943288087845,
          0.03364768996834755,
          0.03364739567041397,
          0.033647097647190094,
          0.03364679217338562,
          0.03364657238125801,
          0.0336463563144207,
          0.033646173775196075,
          0.033645957708358765,
          0.03364576771855354,
          0.03364560380578041,
          0.03364533931016922,
          0.0336451418697834,
          0.03364497423171997,
          0.03364481031894684,
          0.0336446575820446,
          0.03364447131752968,
          0.03364431485533714,
          0.033644065260887146,
          0.033643901348114014,
          0.03364367410540581,
          0.03364340960979462,
          0.03364316746592522,
          0.03364303335547447,
          0.03364284709095955,
          0.03364268317818642,
          0.03364243730902672,
          0.03364226967096329,
          0.03364209085702896,
          0.033641986548900604,
          0.03364190831780434,
          0.0336417518556118,
          0.033641714602708817,
          0.03364160656929016,
          0.03364149481058121,
          0.033641427755355835,
          0.03364131972193718,
          0.03364120051264763,
          0.033641088753938675,
          0.03364096209406853
         ],
         "type": "scatter",
         "xaxis": "x2",
         "yaxis": "y2"
        },
        {
         "x": [
          0,
          1,
          2,
          3,
          4,
          5,
          6,
          7,
          8,
          9,
          10,
          11,
          12,
          13,
          14,
          15,
          16,
          17,
          18,
          19,
          20,
          21,
          22,
          23,
          24,
          25,
          26,
          27,
          28,
          29,
          30,
          31,
          32,
          33,
          34,
          35,
          36,
          37,
          38,
          39,
          40,
          41,
          42,
          43,
          44,
          45,
          46,
          47,
          48,
          49,
          50,
          51,
          52,
          53,
          54,
          55,
          56,
          57,
          58,
          59,
          60,
          61,
          62,
          63,
          64,
          65,
          66,
          67,
          68,
          69,
          70,
          71,
          72,
          73,
          74,
          75,
          76,
          77,
          78
         ],
         "y": [
          0.036782290786504745,
          0.03372229263186455,
          0.0336860790848732,
          0.033664826303720474,
          0.03367460519075394,
          0.033675387501716614,
          0.03367650881409645,
          0.03365388140082359,
          0.033659666776657104,
          0.03365839645266533,
          0.03364638611674309,
          0.033646345138549805,
          0.03365395590662956,
          0.03365229442715645,
          0.03365088999271393,
          0.0336504802107811,
          0.03364403545856476,
          0.033643510192632675,
          0.03364318236708641,
          0.03363657370209694,
          0.03364228829741478,
          0.03364509344100952,
          0.03364260494709015,
          0.03364153206348419,
          0.033642977476119995,
          0.033638905733823776,
          0.0336453840136528,
          0.03364492580294609,
          0.03363412246108055,
          0.033641912043094635,
          0.03363807871937752,
          0.03363754600286484,
          0.033640190958976746,
          0.033636271953582764,
          0.03363315761089325,
          0.033639516681432724,
          0.03363716974854469,
          0.03363581374287605,
          0.033632028847932816,
          0.03363754227757454,
          0.033638354390859604,
          0.0336354523897171,
          0.033635057508945465,
          0.03363413363695145,
          0.0336371511220932,
          0.03363678231835365,
          0.03363814577460289,
          0.0336359478533268,
          0.03363662585616112,
          0.03363810479640961,
          0.03363211825489998,
          0.033635519444942474,
          0.03363623097538948,
          0.03363622725009918,
          0.03363647684454918,
          0.03363414108753204,
          0.03363548219203949,
          0.052552420645952225,
          0.03386537730693817,
          0.033649373799562454,
          0.0336344912648201,
          0.03363259136676788,
          0.033636756241321564,
          0.03363274782896042,
          0.033633142709732056,
          0.03362694010138512,
          0.03363180533051491,
          0.033630505204200745,
          0.03363543748855591,
          0.033636145293712616,
          0.03363119810819626,
          0.033639565110206604,
          0.03363380208611488,
          0.03363331779837608,
          0.03363689035177231,
          0.03363386541604996,
          0.033636968582868576,
          0.03363295644521713,
          0.0336315855383873
         ],
         "type": "scatter",
         "xaxis": "x3",
         "yaxis": "y3"
        },
        {
         "x": [
          0,
          1,
          2,
          3,
          4,
          5,
          6,
          7,
          8,
          9,
          10,
          11,
          12,
          13,
          14,
          15
         ],
         "y": [
          0.03386826813220978,
          0.03381466865539551,
          0.03380965813994408,
          0.03383679315447807,
          0.033822864294052124,
          0.03380777686834335,
          0.03380164876580238,
          0.03380398452281952,
          0.033798277378082275,
          0.03381072357296944,
          0.033803924918174744,
          0.033808834850788116,
          0.033818554133176804,
          0.03380456939339638,
          0.03379727154970169,
          0.03381364792585373
         ],
         "type": "scatter",
         "xaxis": "x4",
         "yaxis": "y4"
        }
       ],
       "layout": {
        "template": {
         "data": {
          "histogram2dcontour": [
           {
            "type": "histogram2dcontour",
            "colorbar": {
             "outlinewidth": 0,
             "ticks": ""
            },
            "colorscale": [
             [
              0.0,
              "#0d0887"
             ],
             [
              0.1111111111111111,
              "#46039f"
             ],
             [
              0.2222222222222222,
              "#7201a8"
             ],
             [
              0.3333333333333333,
              "#9c179e"
             ],
             [
              0.4444444444444444,
              "#bd3786"
             ],
             [
              0.5555555555555556,
              "#d8576b"
             ],
             [
              0.6666666666666666,
              "#ed7953"
             ],
             [
              0.7777777777777778,
              "#fb9f3a"
             ],
             [
              0.8888888888888888,
              "#fdca26"
             ],
             [
              1.0,
              "#f0f921"
             ]
            ]
           }
          ],
          "choropleth": [
           {
            "type": "choropleth",
            "colorbar": {
             "outlinewidth": 0,
             "ticks": ""
            }
           }
          ],
          "histogram2d": [
           {
            "type": "histogram2d",
            "colorbar": {
             "outlinewidth": 0,
             "ticks": ""
            },
            "colorscale": [
             [
              0.0,
              "#0d0887"
             ],
             [
              0.1111111111111111,
              "#46039f"
             ],
             [
              0.2222222222222222,
              "#7201a8"
             ],
             [
              0.3333333333333333,
              "#9c179e"
             ],
             [
              0.4444444444444444,
              "#bd3786"
             ],
             [
              0.5555555555555556,
              "#d8576b"
             ],
             [
              0.6666666666666666,
              "#ed7953"
             ],
             [
              0.7777777777777778,
              "#fb9f3a"
             ],
             [
              0.8888888888888888,
              "#fdca26"
             ],
             [
              1.0,
              "#f0f921"
             ]
            ]
           }
          ],
          "heatmap": [
           {
            "type": "heatmap",
            "colorbar": {
             "outlinewidth": 0,
             "ticks": ""
            },
            "colorscale": [
             [
              0.0,
              "#0d0887"
             ],
             [
              0.1111111111111111,
              "#46039f"
             ],
             [
              0.2222222222222222,
              "#7201a8"
             ],
             [
              0.3333333333333333,
              "#9c179e"
             ],
             [
              0.4444444444444444,
              "#bd3786"
             ],
             [
              0.5555555555555556,
              "#d8576b"
             ],
             [
              0.6666666666666666,
              "#ed7953"
             ],
             [
              0.7777777777777778,
              "#fb9f3a"
             ],
             [
              0.8888888888888888,
              "#fdca26"
             ],
             [
              1.0,
              "#f0f921"
             ]
            ]
           }
          ],
          "heatmapgl": [
           {
            "type": "heatmapgl",
            "colorbar": {
             "outlinewidth": 0,
             "ticks": ""
            },
            "colorscale": [
             [
              0.0,
              "#0d0887"
             ],
             [
              0.1111111111111111,
              "#46039f"
             ],
             [
              0.2222222222222222,
              "#7201a8"
             ],
             [
              0.3333333333333333,
              "#9c179e"
             ],
             [
              0.4444444444444444,
              "#bd3786"
             ],
             [
              0.5555555555555556,
              "#d8576b"
             ],
             [
              0.6666666666666666,
              "#ed7953"
             ],
             [
              0.7777777777777778,
              "#fb9f3a"
             ],
             [
              0.8888888888888888,
              "#fdca26"
             ],
             [
              1.0,
              "#f0f921"
             ]
            ]
           }
          ],
          "contourcarpet": [
           {
            "type": "contourcarpet",
            "colorbar": {
             "outlinewidth": 0,
             "ticks": ""
            }
           }
          ],
          "contour": [
           {
            "type": "contour",
            "colorbar": {
             "outlinewidth": 0,
             "ticks": ""
            },
            "colorscale": [
             [
              0.0,
              "#0d0887"
             ],
             [
              0.1111111111111111,
              "#46039f"
             ],
             [
              0.2222222222222222,
              "#7201a8"
             ],
             [
              0.3333333333333333,
              "#9c179e"
             ],
             [
              0.4444444444444444,
              "#bd3786"
             ],
             [
              0.5555555555555556,
              "#d8576b"
             ],
             [
              0.6666666666666666,
              "#ed7953"
             ],
             [
              0.7777777777777778,
              "#fb9f3a"
             ],
             [
              0.8888888888888888,
              "#fdca26"
             ],
             [
              1.0,
              "#f0f921"
             ]
            ]
           }
          ],
          "surface": [
           {
            "type": "surface",
            "colorbar": {
             "outlinewidth": 0,
             "ticks": ""
            },
            "colorscale": [
             [
              0.0,
              "#0d0887"
             ],
             [
              0.1111111111111111,
              "#46039f"
             ],
             [
              0.2222222222222222,
              "#7201a8"
             ],
             [
              0.3333333333333333,
              "#9c179e"
             ],
             [
              0.4444444444444444,
              "#bd3786"
             ],
             [
              0.5555555555555556,
              "#d8576b"
             ],
             [
              0.6666666666666666,
              "#ed7953"
             ],
             [
              0.7777777777777778,
              "#fb9f3a"
             ],
             [
              0.8888888888888888,
              "#fdca26"
             ],
             [
              1.0,
              "#f0f921"
             ]
            ]
           }
          ],
          "mesh3d": [
           {
            "type": "mesh3d",
            "colorbar": {
             "outlinewidth": 0,
             "ticks": ""
            }
           }
          ],
          "scatter": [
           {
            "marker": {
             "line": {
              "color": "#283442"
             }
            },
            "type": "scatter"
           }
          ],
          "parcoords": [
           {
            "type": "parcoords",
            "line": {
             "colorbar": {
              "outlinewidth": 0,
              "ticks": ""
             }
            }
           }
          ],
          "scatterpolargl": [
           {
            "type": "scatterpolargl",
            "marker": {
             "colorbar": {
              "outlinewidth": 0,
              "ticks": ""
             }
            }
           }
          ],
          "bar": [
           {
            "error_x": {
             "color": "#f2f5fa"
            },
            "error_y": {
             "color": "#f2f5fa"
            },
            "marker": {
             "line": {
              "color": "rgb(17,17,17)",
              "width": 0.5
             },
             "pattern": {
              "fillmode": "overlay",
              "size": 10,
              "solidity": 0.2
             }
            },
            "type": "bar"
           }
          ],
          "scattergeo": [
           {
            "type": "scattergeo",
            "marker": {
             "colorbar": {
              "outlinewidth": 0,
              "ticks": ""
             }
            }
           }
          ],
          "scatterpolar": [
           {
            "type": "scatterpolar",
            "marker": {
             "colorbar": {
              "outlinewidth": 0,
              "ticks": ""
             }
            }
           }
          ],
          "histogram": [
           {
            "marker": {
             "pattern": {
              "fillmode": "overlay",
              "size": 10,
              "solidity": 0.2
             }
            },
            "type": "histogram"
           }
          ],
          "scattergl": [
           {
            "marker": {
             "line": {
              "color": "#283442"
             }
            },
            "type": "scattergl"
           }
          ],
          "scatter3d": [
           {
            "type": "scatter3d",
            "line": {
             "colorbar": {
              "outlinewidth": 0,
              "ticks": ""
             }
            },
            "marker": {
             "colorbar": {
              "outlinewidth": 0,
              "ticks": ""
             }
            }
           }
          ],
          "scattermapbox": [
           {
            "type": "scattermapbox",
            "marker": {
             "colorbar": {
              "outlinewidth": 0,
              "ticks": ""
             }
            }
           }
          ],
          "scatterternary": [
           {
            "type": "scatterternary",
            "marker": {
             "colorbar": {
              "outlinewidth": 0,
              "ticks": ""
             }
            }
           }
          ],
          "scattercarpet": [
           {
            "type": "scattercarpet",
            "marker": {
             "colorbar": {
              "outlinewidth": 0,
              "ticks": ""
             }
            }
           }
          ],
          "carpet": [
           {
            "aaxis": {
             "endlinecolor": "#A2B1C6",
             "gridcolor": "#506784",
             "linecolor": "#506784",
             "minorgridcolor": "#506784",
             "startlinecolor": "#A2B1C6"
            },
            "baxis": {
             "endlinecolor": "#A2B1C6",
             "gridcolor": "#506784",
             "linecolor": "#506784",
             "minorgridcolor": "#506784",
             "startlinecolor": "#A2B1C6"
            },
            "type": "carpet"
           }
          ],
          "table": [
           {
            "cells": {
             "fill": {
              "color": "#506784"
             },
             "line": {
              "color": "rgb(17,17,17)"
             }
            },
            "header": {
             "fill": {
              "color": "#2a3f5f"
             },
             "line": {
              "color": "rgb(17,17,17)"
             }
            },
            "type": "table"
           }
          ],
          "barpolar": [
           {
            "marker": {
             "line": {
              "color": "rgb(17,17,17)",
              "width": 0.5
             },
             "pattern": {
              "fillmode": "overlay",
              "size": 10,
              "solidity": 0.2
             }
            },
            "type": "barpolar"
           }
          ],
          "pie": [
           {
            "automargin": true,
            "type": "pie"
           }
          ]
         },
         "layout": {
          "autotypenumbers": "strict",
          "colorway": [
           "#636efa",
           "#EF553B",
           "#00cc96",
           "#ab63fa",
           "#FFA15A",
           "#19d3f3",
           "#FF6692",
           "#B6E880",
           "#FF97FF",
           "#FECB52"
          ],
          "font": {
           "color": "#f2f5fa"
          },
          "hovermode": "closest",
          "hoverlabel": {
           "align": "left"
          },
          "paper_bgcolor": "rgb(17,17,17)",
          "plot_bgcolor": "rgb(17,17,17)",
          "polar": {
           "bgcolor": "rgb(17,17,17)",
           "angularaxis": {
            "gridcolor": "#506784",
            "linecolor": "#506784",
            "ticks": ""
           },
           "radialaxis": {
            "gridcolor": "#506784",
            "linecolor": "#506784",
            "ticks": ""
           }
          },
          "ternary": {
           "bgcolor": "rgb(17,17,17)",
           "aaxis": {
            "gridcolor": "#506784",
            "linecolor": "#506784",
            "ticks": ""
           },
           "baxis": {
            "gridcolor": "#506784",
            "linecolor": "#506784",
            "ticks": ""
           },
           "caxis": {
            "gridcolor": "#506784",
            "linecolor": "#506784",
            "ticks": ""
           }
          },
          "coloraxis": {
           "colorbar": {
            "outlinewidth": 0,
            "ticks": ""
           }
          },
          "colorscale": {
           "sequential": [
            [
             0.0,
             "#0d0887"
            ],
            [
             0.1111111111111111,
             "#46039f"
            ],
            [
             0.2222222222222222,
             "#7201a8"
            ],
            [
             0.3333333333333333,
             "#9c179e"
            ],
            [
             0.4444444444444444,
             "#bd3786"
            ],
            [
             0.5555555555555556,
             "#d8576b"
            ],
            [
             0.6666666666666666,
             "#ed7953"
            ],
            [
             0.7777777777777778,
             "#fb9f3a"
            ],
            [
             0.8888888888888888,
             "#fdca26"
            ],
            [
             1.0,
             "#f0f921"
            ]
           ],
           "sequentialminus": [
            [
             0.0,
             "#0d0887"
            ],
            [
             0.1111111111111111,
             "#46039f"
            ],
            [
             0.2222222222222222,
             "#7201a8"
            ],
            [
             0.3333333333333333,
             "#9c179e"
            ],
            [
             0.4444444444444444,
             "#bd3786"
            ],
            [
             0.5555555555555556,
             "#d8576b"
            ],
            [
             0.6666666666666666,
             "#ed7953"
            ],
            [
             0.7777777777777778,
             "#fb9f3a"
            ],
            [
             0.8888888888888888,
             "#fdca26"
            ],
            [
             1.0,
             "#f0f921"
            ]
           ],
           "diverging": [
            [
             0,
             "#8e0152"
            ],
            [
             0.1,
             "#c51b7d"
            ],
            [
             0.2,
             "#de77ae"
            ],
            [
             0.3,
             "#f1b6da"
            ],
            [
             0.4,
             "#fde0ef"
            ],
            [
             0.5,
             "#f7f7f7"
            ],
            [
             0.6,
             "#e6f5d0"
            ],
            [
             0.7,
             "#b8e186"
            ],
            [
             0.8,
             "#7fbc41"
            ],
            [
             0.9,
             "#4d9221"
            ],
            [
             1,
             "#276419"
            ]
           ]
          },
          "xaxis": {
           "gridcolor": "#283442",
           "linecolor": "#506784",
           "ticks": "",
           "title": {
            "standoff": 15
           },
           "zerolinecolor": "#283442",
           "automargin": true,
           "zerolinewidth": 2
          },
          "yaxis": {
           "gridcolor": "#283442",
           "linecolor": "#506784",
           "ticks": "",
           "title": {
            "standoff": 15
           },
           "zerolinecolor": "#283442",
           "automargin": true,
           "zerolinewidth": 2
          },
          "scene": {
           "xaxis": {
            "backgroundcolor": "rgb(17,17,17)",
            "gridcolor": "#506784",
            "linecolor": "#506784",
            "showbackground": true,
            "ticks": "",
            "zerolinecolor": "#C8D4E3",
            "gridwidth": 2
           },
           "yaxis": {
            "backgroundcolor": "rgb(17,17,17)",
            "gridcolor": "#506784",
            "linecolor": "#506784",
            "showbackground": true,
            "ticks": "",
            "zerolinecolor": "#C8D4E3",
            "gridwidth": 2
           },
           "zaxis": {
            "backgroundcolor": "rgb(17,17,17)",
            "gridcolor": "#506784",
            "linecolor": "#506784",
            "showbackground": true,
            "ticks": "",
            "zerolinecolor": "#C8D4E3",
            "gridwidth": 2
           }
          },
          "shapedefaults": {
           "line": {
            "color": "#f2f5fa"
           }
          },
          "annotationdefaults": {
           "arrowcolor": "#f2f5fa",
           "arrowhead": 0,
           "arrowwidth": 1
          },
          "geo": {
           "bgcolor": "rgb(17,17,17)",
           "landcolor": "rgb(17,17,17)",
           "subunitcolor": "#506784",
           "showland": true,
           "showlakes": true,
           "lakecolor": "rgb(17,17,17)"
          },
          "title": {
           "x": 0.05
          },
          "updatemenudefaults": {
           "bgcolor": "#506784",
           "borderwidth": 0
          },
          "sliderdefaults": {
           "bgcolor": "#C8D4E3",
           "borderwidth": 1,
           "bordercolor": "rgb(17,17,17)",
           "tickwidth": 0
          },
          "mapbox": {
           "style": "dark"
          }
         }
        },
        "xaxis": {
         "anchor": "y",
         "domain": [
          0.0,
          0.45
         ]
        },
        "yaxis": {
         "anchor": "x",
         "domain": [
          0.7777777777777778,
          1.0
         ]
        },
        "xaxis2": {
         "anchor": "y2",
         "domain": [
          0.55,
          1.0
         ]
        },
        "yaxis2": {
         "anchor": "x2",
         "domain": [
          0.7777777777777778,
          1.0
         ]
        },
        "xaxis3": {
         "anchor": "y3",
         "domain": [
          0.0,
          1.0
         ]
        },
        "yaxis3": {
         "anchor": "x3",
         "domain": [
          0.3888888888888889,
          0.6111111111111112
         ]
        },
        "xaxis4": {
         "anchor": "y4",
         "domain": [
          0.0,
          1.0
         ]
        },
        "yaxis4": {
         "anchor": "x4",
         "domain": [
          0.0,
          0.22222222222222224
         ]
        },
        "annotations": [
         {
          "font": {
           "size": 16
          },
          "showarrow": false,
          "text": "Train epoch kl",
          "x": 0.225,
          "xanchor": "center",
          "xref": "paper",
          "y": 1.0,
          "yanchor": "bottom",
          "yref": "paper"
         },
         {
          "font": {
           "size": 16
          },
          "showarrow": false,
          "text": "Test epoch reconstruction",
          "x": 0.775,
          "xanchor": "center",
          "xref": "paper",
          "y": 1.0,
          "yanchor": "bottom",
          "yref": "paper"
         },
         {
          "font": {
           "size": 16
          },
          "showarrow": false,
          "text": "Train epoch loss",
          "x": 0.5,
          "xanchor": "center",
          "xref": "paper",
          "y": 0.6111111111111112,
          "yanchor": "bottom",
          "yref": "paper"
         },
         {
          "font": {
           "size": 16
          },
          "showarrow": false,
          "text": "Test epoch loss",
          "x": 0.5,
          "xanchor": "center",
          "xref": "paper",
          "y": 0.22222222222222224,
          "yanchor": "bottom",
          "yref": "paper"
         }
        ],
        "height": 1000
       },
       "config": {
        "plotlyServerURL": "https://plot.ly"
       }
      },
      "text/html": "<div>                            <div id=\"3d9336f1-1f5c-4d85-a3c4-4ff420ef0e41\" class=\"plotly-graph-div\" style=\"height:1000px; width:100%;\"></div>            <script type=\"text/javascript\">                require([\"plotly\"], function(Plotly) {                    window.PLOTLYENV=window.PLOTLYENV || {};                                    if (document.getElementById(\"3d9336f1-1f5c-4d85-a3c4-4ff420ef0e41\")) {                    Plotly.newPlot(                        \"3d9336f1-1f5c-4d85-a3c4-4ff420ef0e41\",                        [{\"x\":[0,1,2,3,4,5,6,7,8,9,10,11,12,13,14,15,16,17,18,19,20,21,22,23,24,25,26,27,28,29,30,31,32,33,34,35,36,37,38,39,40,41,42,43,44,45,46,47,48,49,50,51,52,53,54,55,56,57,58,59,60,61,62,63,64,65,66,67,68,69,70,71,72,73,74,75,76,77,78],\"y\":[0.00305569707415998,0.0015520964516326785,0.0010391430696472526,0.0007800483144819736,0.0006265179836191237,0.0005238201702013612,0.00045045342994853854,0.00039419325185008347,0.00035111475153826177,0.00031631594174541533,0.00028771464712917805,0.00026397526380605996,0.00024390092585235834,0.00022655606153421104,0.00021155209105927497,0.0001984714181162417,0.0001868221297627315,0.00017650141671765596,0.00016726175090298057,0.00015893366071395576,0.0001513862080173567,0.00014454151096288115,0.000138290852191858,0.00013253909128252417,0.00012727435387205333,0.00012239909847266972,0.00011790118151111528,0.00011370002903277054,0.00010980051592923701,0.00010618218220770359,0.00010277224646415561,9.95705631794408e-05,9.658392082201317e-05,9.376116213388741e-05,9.10943781491369e-05,8.857633656589314e-05,8.620731387054548e-05,8.394993346882984e-05,8.181011799024418e-05,7.978043868206441e-05,7.78448156779632e-05,7.59961549192667e-05,7.423827628372237e-05,7.256182288983837e-05,7.095908949850127e-05,6.942068284843117e-05,6.79486183798872e-05,6.653684249613434e-05,6.518283043988049e-05,6.388399197021499e-05,6.263589602895081e-05,6.143461359897628e-05,6.027844938216731e-05,5.916296868235804e-05,5.808783316751942e-05,5.705174044123851e-05,5.6051510910037905e-05,0.00038133416092023253,0.00037878224975429475,0.0003727907605934888,0.0003667966811917722,0.0003609428240451962,0.000355250493157655,0.0003497232391964644,0.00034435823909007013,0.0003391509526409209,0.0003340958501212299,0.00032918728538788855,0.000324420107062906,0.00031978779588826,0.0003152854333166033,0.00031090909033082426,0.0003066534991376102,0.000302510685287416,0.00029848096892237663,0.0002945566375274211,0.00029079901287332177,0.00028707514866255224,0.0002834492770489305],\"type\":\"scatter\",\"xaxis\":\"x\",\"yaxis\":\"y\"},{\"x\":[0,1,2,3,4,5,6,7,8,9,10,11,12,13,14,15,16,17,18,19,20,21,22,23,24,25,26,27,28,29,30,31,32,33,34,35,36,37,38,39,40,41,42,43,44,45,46,47,48,49,50,51,52,53,54,55,56,57,58,59,60,61,62,63,64,65,66,67,68,69,70,71,72,73,74,75,76,77,78],\"y\":[0.03372659161686897,0.03370019048452377,0.03369107469916344,0.03368382528424263,0.033679500222206116,0.03367709368467331,0.03367554768919945,0.033672790974378586,0.033670615404844284,0.03366908058524132,0.03366686403751373,0.03366491571068764,0.03366383910179138,0.033662937581539154,0.033662036061286926,0.03366117179393768,0.03366013616323471,0.033659156411886215,0.03365826606750488,0.033657148480415344,0.033656418323516846,0.03365586698055267,0.03365525230765343,0.033654674887657166,0.033654168248176575,0.033653561025857925,0.033653225749731064,0.03365292027592659,0.03365224972367287,0.03365186229348183,0.033651404082775116,0.0336509607732296,0.033650606870651245,0.03365016356110573,0.033649664372205734,0.033649370074272156,0.0336490161716938,0.03364865854382515,0.03364821895956993,0.033647943288087845,0.03364768996834755,0.03364739567041397,0.033647097647190094,0.03364679217338562,0.03364657238125801,0.0336463563144207,0.033646173775196075,0.033645957708358765,0.03364576771855354,0.03364560380578041,0.03364533931016922,0.0336451418697834,0.03364497423171997,0.03364481031894684,0.0336446575820446,0.03364447131752968,0.03364431485533714,0.033644065260887146,0.033643901348114014,0.03364367410540581,0.03364340960979462,0.03364316746592522,0.03364303335547447,0.03364284709095955,0.03364268317818642,0.03364243730902672,0.03364226967096329,0.03364209085702896,0.033641986548900604,0.03364190831780434,0.0336417518556118,0.033641714602708817,0.03364160656929016,0.03364149481058121,0.033641427755355835,0.03364131972193718,0.03364120051264763,0.033641088753938675,0.03364096209406853],\"type\":\"scatter\",\"xaxis\":\"x2\",\"yaxis\":\"y2\"},{\"x\":[0,1,2,3,4,5,6,7,8,9,10,11,12,13,14,15,16,17,18,19,20,21,22,23,24,25,26,27,28,29,30,31,32,33,34,35,36,37,38,39,40,41,42,43,44,45,46,47,48,49,50,51,52,53,54,55,56,57,58,59,60,61,62,63,64,65,66,67,68,69,70,71,72,73,74,75,76,77,78],\"y\":[0.036782290786504745,0.03372229263186455,0.0336860790848732,0.033664826303720474,0.03367460519075394,0.033675387501716614,0.03367650881409645,0.03365388140082359,0.033659666776657104,0.03365839645266533,0.03364638611674309,0.033646345138549805,0.03365395590662956,0.03365229442715645,0.03365088999271393,0.0336504802107811,0.03364403545856476,0.033643510192632675,0.03364318236708641,0.03363657370209694,0.03364228829741478,0.03364509344100952,0.03364260494709015,0.03364153206348419,0.033642977476119995,0.033638905733823776,0.0336453840136528,0.03364492580294609,0.03363412246108055,0.033641912043094635,0.03363807871937752,0.03363754600286484,0.033640190958976746,0.033636271953582764,0.03363315761089325,0.033639516681432724,0.03363716974854469,0.03363581374287605,0.033632028847932816,0.03363754227757454,0.033638354390859604,0.0336354523897171,0.033635057508945465,0.03363413363695145,0.0336371511220932,0.03363678231835365,0.03363814577460289,0.0336359478533268,0.03363662585616112,0.03363810479640961,0.03363211825489998,0.033635519444942474,0.03363623097538948,0.03363622725009918,0.03363647684454918,0.03363414108753204,0.03363548219203949,0.052552420645952225,0.03386537730693817,0.033649373799562454,0.0336344912648201,0.03363259136676788,0.033636756241321564,0.03363274782896042,0.033633142709732056,0.03362694010138512,0.03363180533051491,0.033630505204200745,0.03363543748855591,0.033636145293712616,0.03363119810819626,0.033639565110206604,0.03363380208611488,0.03363331779837608,0.03363689035177231,0.03363386541604996,0.033636968582868576,0.03363295644521713,0.0336315855383873],\"type\":\"scatter\",\"xaxis\":\"x3\",\"yaxis\":\"y3\"},{\"x\":[0,1,2,3,4,5,6,7,8,9,10,11,12,13,14,15],\"y\":[0.03386826813220978,0.03381466865539551,0.03380965813994408,0.03383679315447807,0.033822864294052124,0.03380777686834335,0.03380164876580238,0.03380398452281952,0.033798277378082275,0.03381072357296944,0.033803924918174744,0.033808834850788116,0.033818554133176804,0.03380456939339638,0.03379727154970169,0.03381364792585373],\"type\":\"scatter\",\"xaxis\":\"x4\",\"yaxis\":\"y4\"}],                        {\"template\":{\"data\":{\"histogram2dcontour\":[{\"type\":\"histogram2dcontour\",\"colorbar\":{\"outlinewidth\":0,\"ticks\":\"\"},\"colorscale\":[[0.0,\"#0d0887\"],[0.1111111111111111,\"#46039f\"],[0.2222222222222222,\"#7201a8\"],[0.3333333333333333,\"#9c179e\"],[0.4444444444444444,\"#bd3786\"],[0.5555555555555556,\"#d8576b\"],[0.6666666666666666,\"#ed7953\"],[0.7777777777777778,\"#fb9f3a\"],[0.8888888888888888,\"#fdca26\"],[1.0,\"#f0f921\"]]}],\"choropleth\":[{\"type\":\"choropleth\",\"colorbar\":{\"outlinewidth\":0,\"ticks\":\"\"}}],\"histogram2d\":[{\"type\":\"histogram2d\",\"colorbar\":{\"outlinewidth\":0,\"ticks\":\"\"},\"colorscale\":[[0.0,\"#0d0887\"],[0.1111111111111111,\"#46039f\"],[0.2222222222222222,\"#7201a8\"],[0.3333333333333333,\"#9c179e\"],[0.4444444444444444,\"#bd3786\"],[0.5555555555555556,\"#d8576b\"],[0.6666666666666666,\"#ed7953\"],[0.7777777777777778,\"#fb9f3a\"],[0.8888888888888888,\"#fdca26\"],[1.0,\"#f0f921\"]]}],\"heatmap\":[{\"type\":\"heatmap\",\"colorbar\":{\"outlinewidth\":0,\"ticks\":\"\"},\"colorscale\":[[0.0,\"#0d0887\"],[0.1111111111111111,\"#46039f\"],[0.2222222222222222,\"#7201a8\"],[0.3333333333333333,\"#9c179e\"],[0.4444444444444444,\"#bd3786\"],[0.5555555555555556,\"#d8576b\"],[0.6666666666666666,\"#ed7953\"],[0.7777777777777778,\"#fb9f3a\"],[0.8888888888888888,\"#fdca26\"],[1.0,\"#f0f921\"]]}],\"heatmapgl\":[{\"type\":\"heatmapgl\",\"colorbar\":{\"outlinewidth\":0,\"ticks\":\"\"},\"colorscale\":[[0.0,\"#0d0887\"],[0.1111111111111111,\"#46039f\"],[0.2222222222222222,\"#7201a8\"],[0.3333333333333333,\"#9c179e\"],[0.4444444444444444,\"#bd3786\"],[0.5555555555555556,\"#d8576b\"],[0.6666666666666666,\"#ed7953\"],[0.7777777777777778,\"#fb9f3a\"],[0.8888888888888888,\"#fdca26\"],[1.0,\"#f0f921\"]]}],\"contourcarpet\":[{\"type\":\"contourcarpet\",\"colorbar\":{\"outlinewidth\":0,\"ticks\":\"\"}}],\"contour\":[{\"type\":\"contour\",\"colorbar\":{\"outlinewidth\":0,\"ticks\":\"\"},\"colorscale\":[[0.0,\"#0d0887\"],[0.1111111111111111,\"#46039f\"],[0.2222222222222222,\"#7201a8\"],[0.3333333333333333,\"#9c179e\"],[0.4444444444444444,\"#bd3786\"],[0.5555555555555556,\"#d8576b\"],[0.6666666666666666,\"#ed7953\"],[0.7777777777777778,\"#fb9f3a\"],[0.8888888888888888,\"#fdca26\"],[1.0,\"#f0f921\"]]}],\"surface\":[{\"type\":\"surface\",\"colorbar\":{\"outlinewidth\":0,\"ticks\":\"\"},\"colorscale\":[[0.0,\"#0d0887\"],[0.1111111111111111,\"#46039f\"],[0.2222222222222222,\"#7201a8\"],[0.3333333333333333,\"#9c179e\"],[0.4444444444444444,\"#bd3786\"],[0.5555555555555556,\"#d8576b\"],[0.6666666666666666,\"#ed7953\"],[0.7777777777777778,\"#fb9f3a\"],[0.8888888888888888,\"#fdca26\"],[1.0,\"#f0f921\"]]}],\"mesh3d\":[{\"type\":\"mesh3d\",\"colorbar\":{\"outlinewidth\":0,\"ticks\":\"\"}}],\"scatter\":[{\"marker\":{\"line\":{\"color\":\"#283442\"}},\"type\":\"scatter\"}],\"parcoords\":[{\"type\":\"parcoords\",\"line\":{\"colorbar\":{\"outlinewidth\":0,\"ticks\":\"\"}}}],\"scatterpolargl\":[{\"type\":\"scatterpolargl\",\"marker\":{\"colorbar\":{\"outlinewidth\":0,\"ticks\":\"\"}}}],\"bar\":[{\"error_x\":{\"color\":\"#f2f5fa\"},\"error_y\":{\"color\":\"#f2f5fa\"},\"marker\":{\"line\":{\"color\":\"rgb(17,17,17)\",\"width\":0.5},\"pattern\":{\"fillmode\":\"overlay\",\"size\":10,\"solidity\":0.2}},\"type\":\"bar\"}],\"scattergeo\":[{\"type\":\"scattergeo\",\"marker\":{\"colorbar\":{\"outlinewidth\":0,\"ticks\":\"\"}}}],\"scatterpolar\":[{\"type\":\"scatterpolar\",\"marker\":{\"colorbar\":{\"outlinewidth\":0,\"ticks\":\"\"}}}],\"histogram\":[{\"marker\":{\"pattern\":{\"fillmode\":\"overlay\",\"size\":10,\"solidity\":0.2}},\"type\":\"histogram\"}],\"scattergl\":[{\"marker\":{\"line\":{\"color\":\"#283442\"}},\"type\":\"scattergl\"}],\"scatter3d\":[{\"type\":\"scatter3d\",\"line\":{\"colorbar\":{\"outlinewidth\":0,\"ticks\":\"\"}},\"marker\":{\"colorbar\":{\"outlinewidth\":0,\"ticks\":\"\"}}}],\"scattermapbox\":[{\"type\":\"scattermapbox\",\"marker\":{\"colorbar\":{\"outlinewidth\":0,\"ticks\":\"\"}}}],\"scatterternary\":[{\"type\":\"scatterternary\",\"marker\":{\"colorbar\":{\"outlinewidth\":0,\"ticks\":\"\"}}}],\"scattercarpet\":[{\"type\":\"scattercarpet\",\"marker\":{\"colorbar\":{\"outlinewidth\":0,\"ticks\":\"\"}}}],\"carpet\":[{\"aaxis\":{\"endlinecolor\":\"#A2B1C6\",\"gridcolor\":\"#506784\",\"linecolor\":\"#506784\",\"minorgridcolor\":\"#506784\",\"startlinecolor\":\"#A2B1C6\"},\"baxis\":{\"endlinecolor\":\"#A2B1C6\",\"gridcolor\":\"#506784\",\"linecolor\":\"#506784\",\"minorgridcolor\":\"#506784\",\"startlinecolor\":\"#A2B1C6\"},\"type\":\"carpet\"}],\"table\":[{\"cells\":{\"fill\":{\"color\":\"#506784\"},\"line\":{\"color\":\"rgb(17,17,17)\"}},\"header\":{\"fill\":{\"color\":\"#2a3f5f\"},\"line\":{\"color\":\"rgb(17,17,17)\"}},\"type\":\"table\"}],\"barpolar\":[{\"marker\":{\"line\":{\"color\":\"rgb(17,17,17)\",\"width\":0.5},\"pattern\":{\"fillmode\":\"overlay\",\"size\":10,\"solidity\":0.2}},\"type\":\"barpolar\"}],\"pie\":[{\"automargin\":true,\"type\":\"pie\"}]},\"layout\":{\"autotypenumbers\":\"strict\",\"colorway\":[\"#636efa\",\"#EF553B\",\"#00cc96\",\"#ab63fa\",\"#FFA15A\",\"#19d3f3\",\"#FF6692\",\"#B6E880\",\"#FF97FF\",\"#FECB52\"],\"font\":{\"color\":\"#f2f5fa\"},\"hovermode\":\"closest\",\"hoverlabel\":{\"align\":\"left\"},\"paper_bgcolor\":\"rgb(17,17,17)\",\"plot_bgcolor\":\"rgb(17,17,17)\",\"polar\":{\"bgcolor\":\"rgb(17,17,17)\",\"angularaxis\":{\"gridcolor\":\"#506784\",\"linecolor\":\"#506784\",\"ticks\":\"\"},\"radialaxis\":{\"gridcolor\":\"#506784\",\"linecolor\":\"#506784\",\"ticks\":\"\"}},\"ternary\":{\"bgcolor\":\"rgb(17,17,17)\",\"aaxis\":{\"gridcolor\":\"#506784\",\"linecolor\":\"#506784\",\"ticks\":\"\"},\"baxis\":{\"gridcolor\":\"#506784\",\"linecolor\":\"#506784\",\"ticks\":\"\"},\"caxis\":{\"gridcolor\":\"#506784\",\"linecolor\":\"#506784\",\"ticks\":\"\"}},\"coloraxis\":{\"colorbar\":{\"outlinewidth\":0,\"ticks\":\"\"}},\"colorscale\":{\"sequential\":[[0.0,\"#0d0887\"],[0.1111111111111111,\"#46039f\"],[0.2222222222222222,\"#7201a8\"],[0.3333333333333333,\"#9c179e\"],[0.4444444444444444,\"#bd3786\"],[0.5555555555555556,\"#d8576b\"],[0.6666666666666666,\"#ed7953\"],[0.7777777777777778,\"#fb9f3a\"],[0.8888888888888888,\"#fdca26\"],[1.0,\"#f0f921\"]],\"sequentialminus\":[[0.0,\"#0d0887\"],[0.1111111111111111,\"#46039f\"],[0.2222222222222222,\"#7201a8\"],[0.3333333333333333,\"#9c179e\"],[0.4444444444444444,\"#bd3786\"],[0.5555555555555556,\"#d8576b\"],[0.6666666666666666,\"#ed7953\"],[0.7777777777777778,\"#fb9f3a\"],[0.8888888888888888,\"#fdca26\"],[1.0,\"#f0f921\"]],\"diverging\":[[0,\"#8e0152\"],[0.1,\"#c51b7d\"],[0.2,\"#de77ae\"],[0.3,\"#f1b6da\"],[0.4,\"#fde0ef\"],[0.5,\"#f7f7f7\"],[0.6,\"#e6f5d0\"],[0.7,\"#b8e186\"],[0.8,\"#7fbc41\"],[0.9,\"#4d9221\"],[1,\"#276419\"]]},\"xaxis\":{\"gridcolor\":\"#283442\",\"linecolor\":\"#506784\",\"ticks\":\"\",\"title\":{\"standoff\":15},\"zerolinecolor\":\"#283442\",\"automargin\":true,\"zerolinewidth\":2},\"yaxis\":{\"gridcolor\":\"#283442\",\"linecolor\":\"#506784\",\"ticks\":\"\",\"title\":{\"standoff\":15},\"zerolinecolor\":\"#283442\",\"automargin\":true,\"zerolinewidth\":2},\"scene\":{\"xaxis\":{\"backgroundcolor\":\"rgb(17,17,17)\",\"gridcolor\":\"#506784\",\"linecolor\":\"#506784\",\"showbackground\":true,\"ticks\":\"\",\"zerolinecolor\":\"#C8D4E3\",\"gridwidth\":2},\"yaxis\":{\"backgroundcolor\":\"rgb(17,17,17)\",\"gridcolor\":\"#506784\",\"linecolor\":\"#506784\",\"showbackground\":true,\"ticks\":\"\",\"zerolinecolor\":\"#C8D4E3\",\"gridwidth\":2},\"zaxis\":{\"backgroundcolor\":\"rgb(17,17,17)\",\"gridcolor\":\"#506784\",\"linecolor\":\"#506784\",\"showbackground\":true,\"ticks\":\"\",\"zerolinecolor\":\"#C8D4E3\",\"gridwidth\":2}},\"shapedefaults\":{\"line\":{\"color\":\"#f2f5fa\"}},\"annotationdefaults\":{\"arrowcolor\":\"#f2f5fa\",\"arrowhead\":0,\"arrowwidth\":1},\"geo\":{\"bgcolor\":\"rgb(17,17,17)\",\"landcolor\":\"rgb(17,17,17)\",\"subunitcolor\":\"#506784\",\"showland\":true,\"showlakes\":true,\"lakecolor\":\"rgb(17,17,17)\"},\"title\":{\"x\":0.05},\"updatemenudefaults\":{\"bgcolor\":\"#506784\",\"borderwidth\":0},\"sliderdefaults\":{\"bgcolor\":\"#C8D4E3\",\"borderwidth\":1,\"bordercolor\":\"rgb(17,17,17)\",\"tickwidth\":0},\"mapbox\":{\"style\":\"dark\"}}},\"xaxis\":{\"anchor\":\"y\",\"domain\":[0.0,0.45]},\"yaxis\":{\"anchor\":\"x\",\"domain\":[0.7777777777777778,1.0]},\"xaxis2\":{\"anchor\":\"y2\",\"domain\":[0.55,1.0]},\"yaxis2\":{\"anchor\":\"x2\",\"domain\":[0.7777777777777778,1.0]},\"xaxis3\":{\"anchor\":\"y3\",\"domain\":[0.0,1.0]},\"yaxis3\":{\"anchor\":\"x3\",\"domain\":[0.3888888888888889,0.6111111111111112]},\"xaxis4\":{\"anchor\":\"y4\",\"domain\":[0.0,1.0]},\"yaxis4\":{\"anchor\":\"x4\",\"domain\":[0.0,0.22222222222222224]},\"annotations\":[{\"font\":{\"size\":16},\"showarrow\":false,\"text\":\"Train epoch kl\",\"x\":0.225,\"xanchor\":\"center\",\"xref\":\"paper\",\"y\":1.0,\"yanchor\":\"bottom\",\"yref\":\"paper\"},{\"font\":{\"size\":16},\"showarrow\":false,\"text\":\"Test epoch reconstruction\",\"x\":0.775,\"xanchor\":\"center\",\"xref\":\"paper\",\"y\":1.0,\"yanchor\":\"bottom\",\"yref\":\"paper\"},{\"font\":{\"size\":16},\"showarrow\":false,\"text\":\"Train epoch loss\",\"x\":0.5,\"xanchor\":\"center\",\"xref\":\"paper\",\"y\":0.6111111111111112,\"yanchor\":\"bottom\",\"yref\":\"paper\"},{\"font\":{\"size\":16},\"showarrow\":false,\"text\":\"Test epoch loss\",\"x\":0.5,\"xanchor\":\"center\",\"xref\":\"paper\",\"y\":0.22222222222222224,\"yanchor\":\"bottom\",\"yref\":\"paper\"}],\"height\":1000},                        {\"responsive\": true}                    ).then(function(){\n                            \nvar gd = document.getElementById('3d9336f1-1f5c-4d85-a3c4-4ff420ef0e41');\nvar x = new MutationObserver(function (mutations, observer) {{\n        var display = window.getComputedStyle(gd).display;\n        if (!display || display === 'none') {{\n            console.log([gd, 'removed!']);\n            Plotly.purge(gd);\n            observer.disconnect();\n        }}\n}});\n\n// Listen for the removal of the full notebook cells\nvar notebookContainer = gd.closest('#notebook-container');\nif (notebookContainer) {{\n    x.observe(notebookContainer, {childList: true});\n}}\n\n// Listen for the clearing of the current output cell\nvar outputEl = gd.closest('.output');\nif (outputEl) {{\n    x.observe(outputEl, {childList: true});\n}}\n\n                        })                };                });            </script>        </div>"
     },
     "metadata": {},
     "output_type": "display_data"
    },
    {
     "data": {
      "text/plain": "Train batch:   0%|          | 0/235 [00:00<?, ?it/s]",
      "application/vnd.jupyter.widget-view+json": {
       "version_major": 2,
       "version_minor": 0,
       "model_id": "d28d21547f5048219e02bfda6f9232d5"
      }
     },
     "metadata": {},
     "output_type": "display_data"
    },
    {
     "ename": "KeyboardInterrupt",
     "evalue": "",
     "output_type": "error",
     "traceback": [
      "\u001B[0;31m---------------------------------------------------------------------------\u001B[0m",
      "\u001B[0;31mKeyboardInterrupt\u001B[0m                         Traceback (most recent call last)",
      "Cell \u001B[0;32mIn[9], line 31\u001B[0m\n\u001B[1;32m     28\u001B[0m x, _ \u001B[38;5;241m=\u001B[39m batch\n\u001B[1;32m     29\u001B[0m x \u001B[38;5;241m=\u001B[39m x\u001B[38;5;241m.\u001B[39mto(device)\n\u001B[0;32m---> 31\u001B[0m kl, rec \u001B[38;5;241m=\u001B[39m \u001B[43mvae\u001B[49m\u001B[43m(\u001B[49m\u001B[43mx\u001B[49m\u001B[43m)\u001B[49m\n\u001B[1;32m     32\u001B[0m loss \u001B[38;5;241m=\u001B[39m kl \u001B[38;5;241m+\u001B[39m rec\n\u001B[1;32m     33\u001B[0m loss\u001B[38;5;241m.\u001B[39mbackward()\n",
      "File \u001B[0;32m~/Library/Caches/pypoetry/virtualenvs/rnd-ve5eq-PE-py3.10/lib/python3.10/site-packages/torch/nn/modules/module.py:1130\u001B[0m, in \u001B[0;36mModule._call_impl\u001B[0;34m(self, *input, **kwargs)\u001B[0m\n\u001B[1;32m   1126\u001B[0m \u001B[38;5;66;03m# If we don't have any hooks, we want to skip the rest of the logic in\u001B[39;00m\n\u001B[1;32m   1127\u001B[0m \u001B[38;5;66;03m# this function, and just call forward.\u001B[39;00m\n\u001B[1;32m   1128\u001B[0m \u001B[38;5;28;01mif\u001B[39;00m \u001B[38;5;129;01mnot\u001B[39;00m (\u001B[38;5;28mself\u001B[39m\u001B[38;5;241m.\u001B[39m_backward_hooks \u001B[38;5;129;01mor\u001B[39;00m \u001B[38;5;28mself\u001B[39m\u001B[38;5;241m.\u001B[39m_forward_hooks \u001B[38;5;129;01mor\u001B[39;00m \u001B[38;5;28mself\u001B[39m\u001B[38;5;241m.\u001B[39m_forward_pre_hooks \u001B[38;5;129;01mor\u001B[39;00m _global_backward_hooks\n\u001B[1;32m   1129\u001B[0m         \u001B[38;5;129;01mor\u001B[39;00m _global_forward_hooks \u001B[38;5;129;01mor\u001B[39;00m _global_forward_pre_hooks):\n\u001B[0;32m-> 1130\u001B[0m     \u001B[38;5;28;01mreturn\u001B[39;00m \u001B[43mforward_call\u001B[49m\u001B[43m(\u001B[49m\u001B[38;5;241;43m*\u001B[39;49m\u001B[38;5;28;43minput\u001B[39;49m\u001B[43m,\u001B[49m\u001B[43m \u001B[49m\u001B[38;5;241;43m*\u001B[39;49m\u001B[38;5;241;43m*\u001B[39;49m\u001B[43mkwargs\u001B[49m\u001B[43m)\u001B[49m\n\u001B[1;32m   1131\u001B[0m \u001B[38;5;66;03m# Do not call functions when jit is used\u001B[39;00m\n\u001B[1;32m   1132\u001B[0m full_backward_hooks, non_full_backward_hooks \u001B[38;5;241m=\u001B[39m [], []\n",
      "Cell \u001B[0;32mIn[5], line 57\u001B[0m, in \u001B[0;36mVAE.forward\u001B[0;34m(self, x)\u001B[0m\n\u001B[1;32m     55\u001B[0m \u001B[38;5;66;03m# sampling\u001B[39;00m\n\u001B[1;32m     56\u001B[0m std \u001B[38;5;241m=\u001B[39m torch\u001B[38;5;241m.\u001B[39mexp(\u001B[38;5;241m0.5\u001B[39m \u001B[38;5;241m*\u001B[39m log_sigma)\n\u001B[0;32m---> 57\u001B[0m eps \u001B[38;5;241m=\u001B[39m \u001B[43mtorch\u001B[49m\u001B[38;5;241;43m.\u001B[39;49m\u001B[43mrandn_like\u001B[49m\u001B[43m(\u001B[49m\u001B[43mstd\u001B[49m\u001B[43m)\u001B[49m\n\u001B[1;32m     58\u001B[0m z \u001B[38;5;241m=\u001B[39m eps\u001B[38;5;241m.\u001B[39mmul(std)\u001B[38;5;241m.\u001B[39madd_(mu)\n\u001B[1;32m     60\u001B[0m \u001B[38;5;66;03m# compute losses\u001B[39;00m\n",
      "\u001B[0;31mKeyboardInterrupt\u001B[0m: "
     ]
    }
   ],
   "source": [
    "from IPython.display import clear_output\n",
    "\n",
    "num_epochs = 100\n",
    "validate_every = 5\n",
    "\n",
    "train_losses = {\n",
    "    \"epoch\": [],\n",
    "    \"epoch_kl\": [],\n",
    "    \"epoch_rec\": [],\n",
    "    \"batch\": [],\n",
    "    \"batch_kl\": [],\n",
    "    \"batch_rec\": []\n",
    "}\n",
    "test_losses = {\n",
    "    \"epoch\": [],\n",
    "    \"batch\": []\n",
    "}\n",
    "\n",
    "optimizer = torch.optim.Adam(vae.parameters())\n",
    "\n",
    "for epoch_num in trange(num_epochs, desc=\"Epoch: \"):\n",
    "\n",
    "    # train loop\n",
    "    train_losses[\"batch\"] = []\n",
    "    vae.train()\n",
    "\n",
    "    for batch in tqdm(train_loader, desc=\"Train batch: \", leave=False):\n",
    "        x, _ = batch\n",
    "        x = x.to(device)\n",
    "\n",
    "        kl, rec = vae(x)\n",
    "        loss = kl + rec\n",
    "        loss.backward()\n",
    "\n",
    "        optimizer.step()\n",
    "        optimizer.zero_grad()\n",
    "\n",
    "        train_losses[\"batch\"].append(loss.cpu().item())\n",
    "        train_losses[\"batch_kl\"].append(kl.cpu().item())\n",
    "        train_losses[\"batch_rec\"].append(rec.cpu().item())\n",
    "\n",
    "    train_losses[\"epoch\"].append(torch.as_tensor(train_losses[\"batch\"]).mean().cpu().item())\n",
    "    train_losses[\"epoch_kl\"].append(torch.as_tensor(train_losses[\"batch_kl\"]).mean().cpu().item())\n",
    "    train_losses[\"epoch_rec\"].append(torch.as_tensor(train_losses[\"batch_rec\"]).mean().cpu().item())\n",
    "\n",
    "    # Test loop\n",
    "    if epoch_num % validate_every == 0:\n",
    "        test_losses[\"batch\"] = []\n",
    "        vae.eval()\n",
    "\n",
    "        with torch.no_grad():\n",
    "            for batch in tqdm(test_loader, desc=\"Test batch: \", leave=False):\n",
    "                x, _ = batch\n",
    "                x = x.to(device)\n",
    "\n",
    "                kl, rec = vae(x)\n",
    "                loss = kl + rec\n",
    "                test_losses[\"batch\"].append(loss.cpu().item())\n",
    "\n",
    "            test_epoch_loss = torch.as_tensor(test_losses[\"batch\"]).mean()\n",
    "            test_losses[\"epoch\"].append(test_epoch_loss.cpu().item())\n",
    "\n",
    "    clear_output(wait=True)\n",
    "    visualize_losses(train_losses, test_losses).show()"
   ],
   "metadata": {
    "collapsed": false
   }
  },
  {
   "cell_type": "code",
   "execution_count": 10,
   "outputs": [],
   "source": [
    "from torchvision.utils import save_image\n",
    "from torch.autograd import Variable\n",
    "\n",
    "with torch.no_grad():\n",
    "    test_z = Variable(torch.randn(batch_size, z_dim).to(device))\n",
    "    generated = vae.decoder(test_z)\n",
    "\n",
    "    save_image(generated.view(generated.size(0), 1, 28, 28), 'sample_' + '.png')"
   ],
   "metadata": {
    "collapsed": false
   }
  },
  {
   "cell_type": "code",
   "execution_count": 5,
   "outputs": [],
   "source": [
    "sigmas = []\n",
    "mus = []\n",
    "min_v = float('+inf')\n",
    "max_v = float('-inf')\n",
    "\n",
    "for el, _ in train_dataset:\n",
    "    mus.append(el.mean())\n",
    "    sigmas.append(el.std())\n",
    "\n",
    "    min_v = min(el.min(), min_v)\n",
    "    max_v = max(el.max(), max_v)"
   ],
   "metadata": {
    "collapsed": false
   }
  },
  {
   "cell_type": "code",
   "execution_count": 6,
   "outputs": [
    {
     "data": {
      "text/plain": "(tensor(0.3015), tensor(0.1307), tensor(0.), tensor(1.))"
     },
     "execution_count": 6,
     "metadata": {},
     "output_type": "execute_result"
    }
   ],
   "source": [
    "torch.as_tensor(sigmas).mean(), torch.as_tensor(mus).mean(), min_v, max_v"
   ],
   "metadata": {
    "collapsed": false
   }
  },
  {
   "cell_type": "code",
   "execution_count": null,
   "outputs": [],
   "source": [],
   "metadata": {
    "collapsed": false
   }
  }
 ],
 "metadata": {
  "kernelspec": {
   "display_name": "Python 3",
   "language": "python",
   "name": "python3"
  },
  "language_info": {
   "codemirror_mode": {
    "name": "ipython",
    "version": 2
   },
   "file_extension": ".py",
   "mimetype": "text/x-python",
   "name": "python",
   "nbconvert_exporter": "python",
   "pygments_lexer": "ipython2",
   "version": "2.7.6"
  }
 },
 "nbformat": 4,
 "nbformat_minor": 0
}
